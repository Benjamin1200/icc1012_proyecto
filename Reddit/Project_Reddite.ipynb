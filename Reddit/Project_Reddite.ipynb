{
 "cells": [
  {
   "cell_type": "markdown",
   "metadata": {},
   "source": [
    "# Reddite\n",
    "\n",
    "In this notebook we are going to show all the used for the analysis. Also we are going to show all the graphics asociated with the data obtaines.\n"
   ]
  },
  {
   "cell_type": "markdown",
   "metadata": {},
   "source": [
    "## Introduction\n",
    "\n",
    "We downloaded data from reddite with various methods, which did not provide the same amount of data, so we standarized to the minimal amount which it could be useful. Those fields are: \n",
    "* Date when it was created at.\n",
    "* ID of the tweet, which is unique.\n",
    "* The text of the comment.\n",
    "* The user, which contains the user screen name (username) and the user ID.\n",
    "\n",
    "After defining that the period of downloading data was finished, the amount of data gathered was: **500000** unique tweets. Which is a decent amount of data to analyse."
   ]
  },
  {
   "cell_type": "markdown",
   "metadata": {},
   "source": [
    "## Analysis\n",
    "\n",
    "1) The first step is to filter the data in different files that will be used for all the analysis. The filter will be keywords (in the meantime), the keywords are the platforms name (i.e. Nintendo, Playstation, Xbox), these keywords are searched in the text and the username. If there is no defined preference (not zero preference) in which platform the record was pointing to, it is inserted in both files.\n"
   ]
  },
  {
   "cell_type": "markdown",
   "metadata": {},
   "source": [
    "1) The first analysis to do with this data that is now filtered by platforms, is to count the amount of records per platform. This is done with the next script."
   ]
  },
  {
   "cell_type": "code",
   "execution_count": null,
   "metadata": {
    "collapsed": true
   },
   "outputs": [],
   "source": [
    "import time\n",
    "import sys\n",
    "\n",
    "if __name__ == '__main__':\n",
    "    time_start = time.clock()\n",
    "    # Clean File.\n",
    "    open(\"count_hour_by_platform_summary.txt\", 'w').close()\n",
    "    files = [\"out2.json\"]\n",
    "    for _file in files:\n",
    "        # parameters for mrjob.\n",
    "        # To run your job in multiple subprocesses with a few Hadoop features simulated, use -r local.\n",
    "        option1 = \"\" #\"\"-r\"\n",
    "        option2 = \"\" #\"\"local\"\n",
    "        sys.argv = ['count_hour.py', option1, option2, _file]\n",
    "        # Write to file in append mode.\n",
    "        _fo = open(\"count_hour_by_platform_summary.txt\", 'a')\n",
    "        sys.stdout = _fo\n",
    "        print _file\n",
    "        execfile('count_hour.py')\n",
    "        print \"\\n\"\n",
    "\n",
    "    time_end = time.clock()\n",
    "\n",
    "    print \"Time taken to completion of the metric: {0} in processor time\".format(time_end - time_start)\n"
   ]
  },
  {
   "cell_type": "code",
   "execution_count": null,
   "metadata": {
    "collapsed": true
   },
   "outputs": [],
   "source": [
    "from mrjob.job import MRJob\n",
    "from mrjob.step import MRStep\n",
    "from mrjob.protocol import JSONValueProtocol\n",
    "from datetime import datetime\n",
    "import itertools\n",
    "\n",
    "class MRWordFrequencyCount(MRJob):\n",
    "\tINPUT_PROTOCOL = JSONValueProtocol\n",
    "\n",
    "\tdef mapper(self, _, record):\n",
    "\t\tdate = datetime.fromtimestamp(int(record['created_at']))\n",
    "\t\tweek = date.isocalendar()[1]\n",
    "\t\tyield week, int(record['created_at'])\n",
    "\n",
    "\tdef reducer(self, key, values):\n",
    "\t\tfor i in values:\n",
    "\t\t\tyield (key, datetime.fromtimestamp(i).hour), 1\n",
    "\tdef max_reducer(self, stat, values):\n",
    "\t\tyield stat, sum(values)\n",
    "\n",
    "\tdef steps(self):\n",
    "\t\treturn [MRStep(mapper=self.mapper, reducer=self.reducer),\n",
    "\t\t\t\tMRStep(reducer=self.max_reducer)]\n",
    "\n",
    "if __name__ == '__main__':\n",
    "\tMRWordFrequencyCount.run()\n"
   ]
  },
  {
   "cell_type": "code",
   "execution_count": 1,
   "metadata": {
    "collapsed": false
   },
   "outputs": [
    {
     "data": {
      "image/png": "[encoded data removed]",
      "text/plain": [
       "<matplotlib.figure.Figure at 0x7f03d7f35d10>"
      ]
     },
     "metadata": {},
     "output_type": "display_data"
    }
   ],
   "source": [
    "import matplotlib.pyplot as plt\n",
    "archivo = open(\"count_hour_by_platform_summary.txt\")\n",
    "archivo.readline()\n",
    "pos = []\n",
    "chars_to_remove = [',', '[', ']', '\"']\n",
    "for i in archivo:\n",
    "\tline = i.translate(None, ''.join(chars_to_remove))\n",
    "\tline = line.split()\n",
    "\tpos.append([int(line[0]), int(line[1]), int(line[2])])\n",
    "\n",
    "x_pos = []\n",
    "x_pos_name = []\n",
    "y_pos = []\n",
    "count = 0\n",
    "for i in sorted(pos):\n",
    "\tx_pos.append(count)\n",
    "\tx_pos_name.append(str(i[0])+ \" \" + str(i[1]))\n",
    "\ty_pos.append(i[2])\n",
    "\tcount += 1\n",
    "\n",
    "plt.xticks(x_pos, x_pos_name)\n",
    "pos_plt = plt.plot(x_pos, y_pos, 'g')\n",
    "plt.show()"
   ]
  },
  {
   "cell_type": "markdown",
   "metadata": {},
   "source": [
    "3) The next analysis to do is to count the amount of unique users per platform. This is done with the next script."
   ]
  },
  {
   "cell_type": "code",
   "execution_count": null,
   "metadata": {
    "collapsed": false
   },
   "outputs": [],
   "source": [
    "import time\n",
    "import sys\n",
    "\n",
    "if __name__ == '__main__':\n",
    "    time_start = time.clock()\n",
    "    # Clean File.\n",
    "    open(\"user_amount_by_platform_summary.txt\", 'w').close()\n",
    "    files = [\"out2.json\"]\n",
    "    for _file in files:\n",
    "        # parameters for mrjob.\n",
    "        # To run your job in multiple subprocesses with a few Hadoop features simulated, use -r local.\n",
    "        option1 = \"\" #\"\"-r\"\n",
    "        option2 = \"\" #\"\"local\"\n",
    "        sys.argv = ['user_amount.py', option1, option2, _file]\n",
    "        # Write to file in append mode.\n",
    "        _fo = open(\"user_amount_by_platform_summary.txt\", 'a')\n",
    "        sys.stdout = _fo\n",
    "        print _file\n",
    "        execfile('user_amount.py')\n",
    "        print \"\\n\"\n",
    "\n",
    "    time_end = time.clock()\n",
    "\n",
    "    print \"Time taken to completion of the metric: {0} in processor time\".format(time_end - time_start)\n"
   ]
  },
  {
   "cell_type": "code",
   "execution_count": null,
   "metadata": {
    "collapsed": true
   },
   "outputs": [],
   "source": [
    "from mrjob.job import MRJob\n",
    "from mrjob.step import MRStep\n",
    "from mrjob.protocol import JSONValueProtocol\n",
    "import time\n",
    "import itertools\n",
    "import sys\n",
    "\n",
    "class MRWordFrequencyCount(MRJob):\n",
    "    INPUT_PROTOCOL = JSONValueProtocol\n",
    "\n",
    "    def mapper(self, _, record):\n",
    "        yield [record['user_id'], 1]\n",
    "\n",
    "    def reducer(self, key, values):\n",
    "        yield [key, 1]\n",
    "\n",
    "    def mapper2(self, key, values):\n",
    "        yield ['amount_users', values]\n",
    "\n",
    "    def reducer2(self, key, values):\n",
    "        yield [key, sum(values)]\n",
    "\n",
    "    def steps(self):\n",
    "        return [MRStep(mapper=self.mapper, reducer=self.reducer),\n",
    "                MRStep(mapper=self.mapper2, reducer=self.reducer2)]\n",
    "\n",
    "\n",
    "if __name__ == '__main__':\n",
    "    #time_start = time.clock()\n",
    "    MRWordFrequencyCount().run()\n",
    "    #time_end = time.clock()\n",
    "    #print \"Time taken to completion of the metric: {0} in processor time\".format(time_end - time_start)\n"
   ]
  },
  {
   "cell_type": "markdown",
   "metadata": {},
   "source": [
    "**Results**\n",
    "\n",
    "\"amount_users\"\t14300\n",
    "\n",
    "\n",
    "Time taken to completion of the metric: 4.039858 in processor time\n",
    "\n"
   ]
  },
  {
   "cell_type": "markdown",
   "metadata": {},
   "source": [
    "4) The next analysis is to calculate the Top 10 users that generate the most content in each platform. This is done with the next script."
   ]
  },
  {
   "cell_type": "code",
   "execution_count": null,
   "metadata": {
    "collapsed": true
   },
   "outputs": [],
   "source": [
    "import time\n",
    "import sys\n",
    "\n",
    "if __name__ == '__main__':\n",
    "    time_start = time.clock()\n",
    "    # Clean File.\n",
    "    open(\"top_users_by_platform_summary.txt\", 'w').close()\n",
    "    files = [\"out2.json\"]\n",
    "    for _file in files:\n",
    "        # parameters for mrjob.\n",
    "        # To run your job in multiple subprocesses with a few Hadoop features simulated, use -r local.\n",
    "        option1 = \"\" #\"\"-r\"\n",
    "        option2 = \"\" #\"\"local\"\n",
    "        sys.argv = ['top_users.py', option1, option2, _file]\n",
    "        # Write to file in append mode.\n",
    "        _fo = open(\"top_users_by_platform_summary.txt\", 'a')\n",
    "        sys.stdout = _fo\n",
    "        print _file\n",
    "        execfile('top_users.py')\n",
    "        print \"\\n\"\n",
    "\n",
    "    time_end = time.clock()\n",
    "\n",
    "    print \"Time taken to completion of the metric: {0} in processor time\".format(time_end - time_start)\n"
   ]
  },
  {
   "cell_type": "code",
   "execution_count": null,
   "metadata": {
    "collapsed": true
   },
   "outputs": [],
   "source": [
    "from mrjob.job import MRJob\n",
    "from mrjob.step import MRStep\n",
    "from mrjob.protocol import JSONValueProtocol\n",
    "import time\n",
    "import itertools\n",
    "import operator\n",
    "import sys\n",
    "\n",
    "class MRWordFrequencyCount(MRJob):\n",
    "    INPUT_PROTOCOL = JSONValueProtocol\n",
    "\n",
    "    def mapper(self, _, record):\n",
    "        name = record['user_id']\n",
    "        if name == \"GoGoGadgetReddit\" or name == \"[deleted]\" or name == \" \":\n",
    "            pass\n",
    "        else:\n",
    "            yield [record['user_id'], 1]\n",
    "\n",
    "    def reducer(self, key, values):\n",
    "        yield [\"top_user\", (sum(values), key)]\n",
    "\n",
    "    def reducer2(self, key, values):\n",
    "        user_ids = []\n",
    "        user_tweets = []\n",
    "        for value in values:\n",
    "            user_ids.append(value[1])\n",
    "            user_tweets.append(value[0])\n",
    "        user = {}\n",
    "        for i in xrange(0, len(user_ids)):\n",
    "            user[user_ids[i]] = user_tweets[i]\n",
    "        top_users = sorted(user.items(), key=lambda x: (x[1], operator.itemgetter(0)), reverse=True)\n",
    "        for user in top_users[0:10]:\n",
    "            #print user[0], user[1]\n",
    "            yield [user[0], user[1]]\n",
    "\n",
    "    def steps(self):\n",
    "        return [MRStep(mapper=self.mapper, reducer=self.reducer),\n",
    "                MRStep(reducer=self.reducer2)]\n",
    "\n",
    "\n",
    "if __name__ == '__main__':\n",
    "    #time_start = time.clock()\n",
    "    MRWordFrequencyCount().run()\n",
    "    #time_end = time.clock()\n",
    "    #print \"Time taken to completion of the metric: {0} in processor time\".format(time_end - time_start)\n"
   ]
  },
  {
   "cell_type": "markdown",
   "metadata": {},
   "source": [
    "**Results**\n",
    "\n",
    "out2.json\n",
    "\n",
    "\"Mariomaster2015\"\t98\n",
    "\n",
    "\"AutoModerator\"\t97\n",
    "\n",
    "\"Quincea4\"\t95\n",
    "\n",
    "\"TSPhoenix\"\t94\n",
    "\n",
    "\"mjmannella\"\t85\n",
    "\n",
    "\"mikey102880\"\t84\n",
    "\n",
    "\"SpahsgonnaSpah\"\t78\n",
    "\n",
    "\"Trinitronity\"\t77\n",
    "\n",
    "\"thescottishlion\"\t74\n",
    "\n",
    "\"Voyager5555\"\t73\n",
    "\n",
    "\n",
    "Time taken to completion of the metric: 3.496951 in processor time\n",
    "\n",
    "\n",
    "**Analysis**\n",
    "\n",
    "From this we can see that (requires more analysis)."
   ]
  },
  {
   "cell_type": "markdown",
   "metadata": {},
   "source": [
    "5) Sentimientos"
   ]
  },
  {
   "cell_type": "code",
   "execution_count": null,
   "metadata": {
    "collapsed": false
   },
   "outputs": [],
   "source": [
    "import time\n",
    "import sys\n",
    "\n",
    "if __name__ == '__main__':\n",
    "    time_start = time.clock()\n",
    "    # Clean File.\n",
    "    open(\"count_sentim_by_platform_summary.txt\", 'w').close()\n",
    "    files = [\"out2.json\"]\n",
    "    for _file in files:\n",
    "        # parameters for mrjob.\n",
    "        # To run your job in multiple subprocesses with a few Hadoop features simulated, use -r local.\n",
    "        option1 = \"\" #\"\"-r\"\n",
    "        option2 = \"\" #\"\"local\"\n",
    "        sys.argv = ['count_sentim.py', option1, option2, _file]\n",
    "        # Write to file in append mode.\n",
    "        _fo = open(\"count_sentim_by_platform_summary.txt\", 'a')\n",
    "        sys.stdout = _fo\n",
    "        print _file\n",
    "        execfile('count_sentim.py')\n",
    "        print \"\\n\"\n",
    "\n",
    "    time_end = time.clock()\n",
    "\n",
    "    print \"Time taken to completion of the metric: {0} in processor time\".format(time_end - time_start)\n"
   ]
  },
  {
   "cell_type": "code",
   "execution_count": null,
   "metadata": {
    "collapsed": true
   },
   "outputs": [],
   "source": [
    "from mrjob.job import MRJob\n",
    "from mrjob.step import MRStep\n",
    "from mrjob.protocol import JSONValueProtocol\n",
    "from datetime import datetime\n",
    "import itertools\n",
    "\n",
    "class MRWordFrequencyCount(MRJob):\n",
    "\tINPUT_PROTOCOL = JSONValueProtocol\n",
    "\n",
    "\tdef mapper(self, _, record):\n",
    "\t\t\n",
    "\t\tyield record['classification'], 1\n",
    "\n",
    "\tdef max_reducer(self, stat, values):\n",
    "\t\tyield stat, sum(values)\n",
    "\n",
    "\tdef steps(self):\n",
    "\t\treturn [MRStep(mapper=self.mapper, reducer=self.max_reducer)]\n",
    "\n",
    "if __name__ == '__main__':\n",
    "\tMRWordFrequencyCount.run()"
   ]
  },
  {
   "cell_type": "code",
   "execution_count": 2,
   "metadata": {
    "collapsed": false
   },
   "outputs": [
    {
     "data": {
      "image/png": "[encoded data removed]",
      "text/plain": [
       "<matplotlib.figure.Figure at 0x7f03fc70ab90>"
      ]
     },
     "metadata": {},
     "output_type": "display_data"
    }
   ],
   "source": [
    "import matplotlib.pyplot as plt\n",
    "y = [7962, 9521, 19322]\n",
    "x = [0, 1, 2]\n",
    "x_name = ['neg', 'neu', 'pos']\n",
    "plt.xticks(x, x_name)\n",
    "plt.plot(x, y, 'ro')\n",
    "axes = plt.gca()\n",
    "axes.set_xlim([-1,3])\n",
    "plt.show()"
   ]
  },
  {
   "cell_type": "markdown",
   "metadata": {},
   "source": [
    "6) Lenguaje"
   ]
  },
  {
   "cell_type": "code",
   "execution_count": null,
   "metadata": {
    "collapsed": true
   },
   "outputs": [],
   "source": [
    "import matplotlib.pyplot as plt\n",
    "from itertools import cycle\n",
    "cycol = cycle('bgrcmk').next\n",
    "archivo = open(\"languages_amount_by_platform_summary.txt\")\n",
    "archivo.readline()\n",
    "archivo.readline()\n",
    "languages = {}\n",
    "chars_to_remove = [',', '[', ']', '\"']\n",
    "while True:\n",
    "\ti = archivo.readline()\n",
    "\tline = i.translate(None, ''.join(chars_to_remove))\n",
    "\tline = line.split()\n",
    "\tif len(line) == 0:\n",
    "\t\tbreak\n",
    "\tif line[2] not in languages.keys():\n",
    "\t\tlanguages[line[2]] = []\n",
    "\tlanguages[line[2]].append([int(line[0]), int(line[1]), int(line[3])])\n",
    "ax = plt.subplot(111)\n",
    "for i in languages.keys():\n",
    "\tx = []\n",
    "\tx_name = []\n",
    "\ty = []\n",
    "\tcount = 0\n",
    "\tfor j in sorted(languages[i]):\n",
    "\t\tx.append(count)\n",
    "\t\tx_name.append(str(j[0])+ \" \" + str(j[1]))\n",
    "\t\ty.append(j[2])\n",
    "\t\tcount += 1\n",
    "\n",
    "\tplt.xticks(x, x_name)\n",
    "\tplt.plot(x, y,label=i)\n",
    "box = ax.get_position()\n",
    "ax.set_position([box.x0, box.y0, box.width * 0.8, box.height])\n",
    "\n",
    "# Put a legend to the right of the current axis\n",
    "ax.legend(loc='center left', bbox_to_anchor=(1, 0.5))\n",
    "plt.show()\n",
    "\n",
    "archivo.readline()\n",
    "archivo.readline()\n",
    "languages = {}\n",
    "chars_to_remove = [',', '[', ']', '\"']\n",
    "while True:\n",
    "\ti = archivo.readline()\n",
    "\tline = i.translate(None, ''.join(chars_to_remove))\n",
    "\tline = line.split()\n",
    "\tif len(line) == 0:\n",
    "\t\tbreak\n",
    "\tif line[2] not in languages.keys():\n",
    "\t\tlanguages[line[2]] = []\n",
    "\tlanguages[line[2]].append([int(line[0]), int(line[1]), int(line[3])])\n",
    "ax = plt.subplot(111)\n",
    "for i in languages.keys():\n",
    "\tx = []\n",
    "\tx_name = []\n",
    "\ty = []\n",
    "\tcount = 0\n",
    "\tfor j in sorted(languages[i]):\n",
    "\t\tx.append(count)\n",
    "\t\tx_name.append(str(j[0])+ \" \" + str(j[1]))\n",
    "\t\ty.append(j[2])\n",
    "\t\tcount += 1\n",
    "\n",
    "\tplt.xticks(x, x_name)\n",
    "\tplt.plot(x, y,label=i)\n",
    "box = ax.get_position()\n",
    "ax.set_position([box.x0, box.y0, box.width * 0.8, box.height])\n",
    "\n",
    "# Put a legend to the right of the current axis\n",
    "ax.legend(loc='center left', bbox_to_anchor=(1, 0.5))\n",
    "plt.show()"
   ]
  },
  {
   "cell_type": "code",
   "execution_count": null,
   "metadata": {
    "collapsed": true
   },
   "outputs": [],
   "source": [
    "import sys\n",
    "import json\n",
    "reload(sys)\n",
    "sys.setdefaultencoding('utf8')\n",
    "try:\n",
    "    from nltk import wordpunct_tokenize\n",
    "    from nltk.corpus import stopwords\n",
    "except ImportError:\n",
    "    print '[!] You need to install nltk (http://nltk.org/index.html)'\n",
    "\n",
    "\n",
    "\n",
    "#----------------------------------------------------------------------\n",
    "def _calculate_languages_ratios(text):\n",
    "    \"\"\"\n",
    "    Calculate probability of given text to be written in several languages and\n",
    "    return a dictionary that looks like {'french': 2, 'spanish': 4, 'english': 0}\n",
    "    \n",
    "    @param text: Text whose language want to be detected\n",
    "    @type text: str\n",
    "    \n",
    "    @return: Dictionary with languages and unique stopwords seen in analyzed text\n",
    "    @rtype: dict\n",
    "    \"\"\"\n",
    "\n",
    "    languages_ratios = {}\n",
    "\n",
    "    '''\n",
    "    nltk.wordpunct_tokenize() splits all punctuations into separate tokens\n",
    "    \n",
    "    >>> wordpunct_tokenize(\"That's thirty minutes away. I'll be there in ten.\")\n",
    "    ['That', \"'\", 's', 'thirty', 'minutes', 'away', '.', 'I', \"'\", 'll', 'be', 'there', 'in', 'ten', '.']\n",
    "    '''\n",
    "\n",
    "    tokens = wordpunct_tokenize(text)\n",
    "    words = [word.lower() for word in tokens]\n",
    "\n",
    "    # Compute per language included in nltk number of unique stopwords appearing in analyzed text\n",
    "    for language in stopwords.fileids():\n",
    "        stopwords_set = set(stopwords.words(language))\n",
    "        words_set = set(words)\n",
    "        common_elements = words_set.intersection(stopwords_set)\n",
    "\n",
    "        languages_ratios[language] = len(common_elements) # language \"score\"\n",
    "\n",
    "    return languages_ratios\n",
    "\n",
    "\n",
    "#----------------------------------------------------------------------\n",
    "def detect_language(text):\n",
    "    \"\"\"\n",
    "    Calculate probability of given text to be written in several languages and\n",
    "    return the highest scored.\n",
    "    \n",
    "    It uses a stopwords based approach, counting how many unique stopwords\n",
    "    are seen in analyzed text.\n",
    "    \n",
    "    @param text: Text whose language want to be detected\n",
    "    @type text: str\n",
    "    \n",
    "    @return: Most scored language guessed\n",
    "    @rtype: str\n",
    "    \"\"\"\n",
    "\n",
    "    ratios = _calculate_languages_ratios(text)\n",
    "\n",
    "    most_rated_language = max(ratios, key=ratios.get)\n",
    "\n",
    "    return most_rated_language\n",
    "\n",
    "\n",
    "\n",
    "if __name__=='__main__':\n",
    "    f = file('out2.json', 'w')\n",
    "    sys.stdout = f\n",
    "    orig_stdout = sys.stdout\n",
    "    with open('out.json') as json_data:\n",
    "        for j in json_data:\n",
    "            d = json.loads(j)\n",
    "            language = detect_language(d['text'].encode('utf-8'))\n",
    "            d.update({'lenguage' :language})\n",
    "            print(json.dumps(d, ensure_ascii=False))\n",
    "    sys.stdout = orig_stdout\n",
    "    f.close()           \n"
   ]
  },
  {
   "cell_type": "code",
   "execution_count": null,
   "metadata": {
    "collapsed": true
   },
   "outputs": [],
   "source": [
    "out2.json\n",
    "\"danish\"\t130\n",
    "\"dutch\"\t176\n",
    "\"english\"\t33099\n",
    "\"finnish\"\t43\n",
    "\"french\"\t45\n",
    "\"german\"\t87\n",
    "\"hungarian\"\t137\n",
    "\"italian\"\t9\n",
    "\"norwegian\"\t19\n",
    "\"portuguese\"\t358\n",
    "\"spanish\"\t41\n",
    "\"swedish\"\t2661\n",
    "\n",
    "\n",
    "Time taken to completion of the metric: 2.606543 in processor time\n"
   ]
  }
 ],
 "metadata": {
  "kernelspec": {
   "display_name": "Python 2",
   "language": "python",
   "name": "python2"
  },
  "language_info": {
   "codemirror_mode": {
    "name": "ipython",
    "version": 2
   },
   "file_extension": ".py",
   "mimetype": "text/x-python",
   "name": "python",
   "nbconvert_exporter": "python",
   "pygments_lexer": "ipython2",
   "version": "2.7.12"
  }
 },
 "nbformat": 4,
 "nbformat_minor": 1
}
