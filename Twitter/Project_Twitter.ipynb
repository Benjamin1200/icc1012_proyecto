{
 "cells": [
  {
   "cell_type": "markdown",
   "metadata": {
    "slideshow": {
     "slide_type": "slide"
    }
   },
   "source": [
    "# Twitter\n",
    "\n",
    "In this notebook we are going to show all the used for the analysis. Also we are going to show all the graphics asociated with the data obtaines.\n"
   ]
  },
  {
   "cell_type": "markdown",
   "metadata": {
    "slideshow": {
     "slide_type": "slide"
    }
   },
   "source": [
    "## Introduction\n",
    "\n",
    "We downloaded data from twitter with various methods, which did not provide the same amount of data, so we standarized to the minimal amount which it could be useful. Those fields are: \n",
    "* Date when it was created at.\n",
    "* ID of the tweet, which is unique.\n",
    "* The text of the tweet.\n",
    "* The user, which contains the user screen name (username) and the user ID.\n",
    "\n",
    "After defining that the period of downloading data was finished, the amount of data gathered was: **6.542.718** unique tweets. Which is a decent amount of data to analyse."
   ]
  },
  {
   "cell_type": "markdown",
   "metadata": {
    "slideshow": {
     "slide_type": "slide"
    }
   },
   "source": [
    "## Analysis\n",
    "\n",
    "1) The first step is to filter the data in different files that will be used for all the analysis. The filter will be keywords (in the meantime), the keywords are the platforms name (i.e. Nintendo, Playstation, Xbox), these keywords are searched in the text and the username. If there is no defined preference (not zero preference) in which platform the record was pointing to, it is inserted in both files.\n",
    "\n",
    "The ideal method to filter the data would be create a database of keywords asociated with each platform, so in every record when searching it could be calculated the probability of that text (according to all the words) to which platform it goes. This would require a model with N-Bayes, but like most predictive models it requires training, which we do not have at this moment."
   ]
  },
  {
   "cell_type": "code",
   "execution_count": null,
   "metadata": {
    "collapsed": false,
    "slideshow": {
     "slide_type": "slide"
    }
   },
   "outputs": [],
   "source": [
    "import time\n",
    "import json\n",
    "\n",
    "if __name__ == '__main__':\n",
    "    time_start = time.clock()\n",
    "    nintendo_platform_file = []\n",
    "    playstation_platform_file = []\n",
    "    xbox_platform_file = []\n",
    "    else_platform_file = []\n",
    "    _file = open(\"project_tweets.data\", 'r')\n",
    "    for line in _file.readlines():\n",
    "        data = json.loads(line)\n",
    "        try:\n",
    "            raw_text = data['text'].strip().upper()\n",
    "            raw_username = data['user']['screen_name'].strip().upper()\n",
    "        except:\n",
    "            # No idea why would happen.\n",
    "            print \"WTF!\"\n",
    "            raw_text = \"\"\n",
    "            raw_username = \"\"\n",
    "        nintendo_mentions = raw_text.count(\"NINTENDO\")\n",
    "        playstation_mentions = raw_text.count(\"PLAYSTATION\")\n",
    "        xbox_mentions = raw_text.count(\"XBOX\")\n",
    "        nintendo_mentions += 1 if raw_username.find(\"NINTENDO\") != -1 else 0\n",
    "        playstation_mentions += 1 if raw_username.find(\"PLAYSTATION\") != -1 else 0\n",
    "        xbox_mentions += 1 if raw_username.find(\"XBOX\") != -1 else 0\n",
    "        if nintendo_mentions > playstation_mentions and nintendo_mentions > xbox_mentions:\n",
    "            nintendo_platform_file.append(line)\n",
    "        elif playstation_mentions > nintendo_mentions and playstation_mentions > xbox_mentions:\n",
    "            playstation_platform_file.append(line)\n",
    "        elif xbox_mentions > playstation_mentions and xbox_mentions > nintendo_mentions:\n",
    "            xbox_platform_file.append(line)\n",
    "        elif nintendo_mentions == playstation_mentions and nintendo_mentions == xbox_mentions and nintendo_mentions > 0:\n",
    "            nintendo_platform_file.append(line)\n",
    "            playstation_platform_file.append(line)\n",
    "            xbox_platform_file.append(line)\n",
    "        elif nintendo_mentions == playstation_mentions and nintendo_mentions != xbox_mentions:\n",
    "            nintendo_platform_file.append(line)\n",
    "            playstation_platform_file.append(line)\n",
    "        elif nintendo_mentions == xbox_mentions and nintendo_mentions != playstation_mentions:\n",
    "            nintendo_platform_file.append(line)\n",
    "            xbox_platform_file.append(line)\n",
    "        elif playstation_mentions == xbox_mentions and playstation_mentions != nintendo_mentions:\n",
    "            playstation_platform_file.append(line)\n",
    "            xbox_platform_file.append(line)\n",
    "        else:\n",
    "            else_platform_file.append(line)\n",
    "    filenames = [\"project_tweets01.data\", \"project_tweets02.data\", \"project_tweets03.data\", \"project_tweets04.data\"]\n",
    "    for filename in filenames:\n",
    "        # Clean files.\n",
    "        open(filename, 'w').close()\n",
    "        # Write files in append mode.\n",
    "        with open(filename, 'a') as _file:\n",
    "            if filename == \"project_tweets01.data\":\n",
    "                for line in nintendo_platform_file:\n",
    "                    _file.write(line)\n",
    "            elif filename == \"project_tweets02.data\":\n",
    "                for line in playstation_platform_file:\n",
    "                    _file.write(line)\n",
    "            elif filename == \"project_tweets03.data\":\n",
    "                for line in xbox_platform_file:\n",
    "                    _file.write(line)\n",
    "            else:\n",
    "                for line in else_platform_file:\n",
    "                    _file.write(line)\n",
    "    time_end = time.clock()\n",
    "\n",
    "    print \"Time taken to completion of the metric: {0} in processor time\".format(time_end - time_start)\n"
   ]
  },
  {
   "cell_type": "markdown",
   "metadata": {
    "slideshow": {
     "slide_type": "slide"
    }
   },
   "source": [
    "2) The first analysis to do with this data that is now filtered by platforms, is to count the amount of records per platform. This is done with the next script."
   ]
  },
  {
   "cell_type": "code",
   "execution_count": null,
   "metadata": {
    "collapsed": true,
    "slideshow": {
     "slide_type": "fragment"
    }
   },
   "outputs": [],
   "source": [
    "import time\n",
    "import sys\n",
    "\n",
    "if __name__ == '__main__':\n",
    "    time_start = time.clock()\n",
    "    # Clean File.\n",
    "    open(\"records_by_platform_summary.txt\", 'w').close()\n",
    "    files = [\"project_tweets01.data\", \"project_tweets02.data\", \"project_tweets03.data\", \"project_tweets04.data\", \"project_tweets.data\"]\n",
    "    for _file in files:\n",
    "        # Write to file in append mode.\n",
    "        _fo = open(\"records_by_platform_summary.txt\", 'a')\n",
    "        sys.stdout = _fo\n",
    "        print _file\n",
    "        _data = open(_file, 'r')\n",
    "        lines = _data.readlines()\n",
    "        records = len(lines)\n",
    "        print records, '\\n'\n",
    "\n",
    "    time_end = time.clock()\n",
    "\n",
    "    print \"Time taken to completion of the metric: {0} in processor time\".format(time_end - time_start)\n"
   ]
  },
  {
   "cell_type": "markdown",
   "metadata": {
    "slideshow": {
     "slide_type": "slide"
    }
   },
   "source": [
    "**Results**\n",
    "\n",
    "* Nintendo: 1.317.667 \n",
    "* Playstation: 2.337.881 \n",
    "* Xbox: 2.260.157 \n",
    "* Else: 735.410 \n",
    "\n",
    "* Total tweets (with no filtering): 6.542.718 \n",
    "\n",
    "Time taken to completion of the metric: 37.615491 in processor time\n",
    "\n",
    "**Analysis**\n",
    "\n",
    "From this we can see that in the \"Else\" category we have **11.24%** of all the data, which is not a small amount. But considering that our filter for the platforms is kind of brute force is all right."
   ]
  },
  {
   "cell_type": "markdown",
   "metadata": {
    "slideshow": {
     "slide_type": "slide"
    }
   },
   "source": [
    "3) The next analysis to do is to count the amount of unique users per platform. This is done with the next script."
   ]
  },
  {
   "cell_type": "code",
   "execution_count": null,
   "metadata": {
    "collapsed": false,
    "slideshow": {
     "slide_type": "fragment"
    }
   },
   "outputs": [],
   "source": [
    "import time\n",
    "import sys\n",
    "\n",
    "if __name__ == '__main__':\n",
    "    time_start = time.clock()\n",
    "    # Clean File.\n",
    "    open(\"user_amount_by_platform_summary.txt\", 'w').close()\n",
    "    files = [\"project_tweets01.data\", \"project_tweets02.data\", \"project_tweets03.data\", \"project_tweets04.data\"]\n",
    "    for _file in files:\n",
    "        # parameters for mrjob.\n",
    "        # To run your job in multiple subprocesses with a few Hadoop features simulated, use -r local.\n",
    "        option1 = \"\" #\"\"-r\"\n",
    "        option2 = \"\" #\"\"local\"\n",
    "        sys.argv = ['user_amount.py', option1, option2, _file]\n",
    "        # Write to file in append mode.\n",
    "        _fo = open(\"user_amount_by_platform_summary.txt\", 'a')\n",
    "        sys.stdout = _fo\n",
    "        print _file\n",
    "        execfile('user_amount.py')\n",
    "        print \"\\n\"\n",
    "\n",
    "    time_end = time.clock()\n",
    "\n",
    "    print \"Time taken to completion of the metric: {0} in processor time\".format(time_end - time_start)\n"
   ]
  },
  {
   "cell_type": "code",
   "execution_count": null,
   "metadata": {
    "collapsed": true,
    "slideshow": {
     "slide_type": "slide"
    }
   },
   "outputs": [],
   "source": [
    "from mrjob.job import MRJob\n",
    "from mrjob.step import MRStep\n",
    "from mrjob.protocol import JSONValueProtocol\n",
    "import time\n",
    "import itertools\n",
    "import sys\n",
    "\n",
    "class MRWordFrequencyCount(MRJob):\n",
    "    INPUT_PROTOCOL = JSONValueProtocol\n",
    "\n",
    "    def mapper(self, _, record):\n",
    "        yield [record['user']['screen_name'], 1]\n",
    "\n",
    "    def reducer(self, key, values):\n",
    "        yield [key, 1]\n",
    "\n",
    "    def mapper2(self, key, values):\n",
    "        yield ['amount_users', values]\n",
    "\n",
    "    def reducer2(self, key, values):\n",
    "        yield [key, sum(values)]\n",
    "\n",
    "    def steps(self):\n",
    "        return [MRStep(mapper=self.mapper, reducer=self.reducer),\n",
    "                MRStep(mapper=self.mapper2, reducer=self.reducer2)]\n",
    "\n",
    "\n",
    "if __name__ == '__main__':\n",
    "    #time_start = time.clock()\n",
    "    MRWordFrequencyCount().run()\n",
    "    #time_end = time.clock()\n",
    "    #print \"Time taken to completion of the metric: {0} in processor time\".format(time_end - time_start)\n"
   ]
  },
  {
   "cell_type": "markdown",
   "metadata": {
    "slideshow": {
     "slide_type": "slide"
    }
   },
   "source": [
    "**Results**\n",
    "\n",
    "\n",
    "| Platform Name | Amount of Users |\n",
    "|---------------|-----------------|\n",
    "| Nintendo      | 426.450         |\n",
    "| Playstation   | 574.308         |\n",
    "| Xbox          | 727.273         |\n",
    "| Else          | 265.827         |\n",
    "\n",
    "Time taken to completion of the metric: 426.030981 in processor time\n",
    "\n",
    "\n",
    "**Analysis**\n",
    "\n",
    "From this we can see that in the Xbox platform there are more unique users than in all the other platforms by a not small percentage, it almost duplicates Nintendo unique users. What is interesting, is using the analysis from before we can see that Xbox had less records than Playstation, but seeing this there is a whooping 150k (estimated) more unique users in Xbox, which could lead us that Playstation content creation is more for each unique user or that there is a tiny amount of users that produce all the content for this platform."
   ]
  },
  {
   "cell_type": "markdown",
   "metadata": {
    "slideshow": {
     "slide_type": "slide"
    }
   },
   "source": [
    "4) The next analysis is to calculate the Top 10 users that generate the most content in each platform. This is done with the next script."
   ]
  },
  {
   "cell_type": "code",
   "execution_count": null,
   "metadata": {
    "collapsed": true,
    "slideshow": {
     "slide_type": "fragment"
    }
   },
   "outputs": [],
   "source": [
    "import time\n",
    "import sys\n",
    "\n",
    "if __name__ == '__main__':\n",
    "    time_start = time.clock()\n",
    "    # Clean File.\n",
    "    open(\"top_users_by_platform_summary.txt\", 'w').close()\n",
    "    files = [\"project_tweets01.data\", \"project_tweets02.data\", \"project_tweets03.data\", \"project_tweets04.data\"]\n",
    "    for _file in files:\n",
    "        # parameters for mrjob.\n",
    "        # To run your job in multiple subprocesses with a few Hadoop features simulated, use -r local.\n",
    "        option1 = \"\" #\"\"-r\"\n",
    "        option2 = \"\" #\"\"local\"\n",
    "        sys.argv = ['top_users.py', option1, option2, _file]\n",
    "        # Write to file in append mode.\n",
    "        _fo = open(\"top_users_by_platform_summary.txt\", 'a')\n",
    "        sys.stdout = _fo\n",
    "        print _file\n",
    "        execfile('top_users.py')\n",
    "        print \"\\n\"\n",
    "\n",
    "    time_end = time.clock()\n",
    "\n",
    "    print \"Time taken to completion of the metric: {0} in processor time\".format(time_end - time_start)\n"
   ]
  },
  {
   "cell_type": "code",
   "execution_count": null,
   "metadata": {
    "collapsed": true,
    "slideshow": {
     "slide_type": "slide"
    }
   },
   "outputs": [],
   "source": [
    "from mrjob.job import MRJob\n",
    "from mrjob.step import MRStep\n",
    "from mrjob.protocol import JSONValueProtocol\n",
    "import time\n",
    "import itertools\n",
    "import operator\n",
    "import sys\n",
    "\n",
    "class MRWordFrequencyCount(MRJob):\n",
    "    INPUT_PROTOCOL = JSONValueProtocol\n",
    "\n",
    "    def mapper(self, _, record):\n",
    "        yield [record['user']['screen_name'], 1]\n",
    "\n",
    "    def reducer(self, key, values):\n",
    "        yield [\"top_user\", (sum(values), key)]\n",
    "\n",
    "    def reducer2(self, key, values):\n",
    "        user_ids = []\n",
    "        user_tweets = []\n",
    "        for value in values:\n",
    "            user_ids.append(value[1])\n",
    "            user_tweets.append(value[0])\n",
    "        user = {}\n",
    "        for i in xrange(0, len(user_ids)):\n",
    "            user[user_ids[i]] = user_tweets[i]\n",
    "        top_users = sorted(user.items(), key=lambda x: (x[1], operator.itemgetter(0)), reverse=True)\n",
    "        for user in top_users[0:10]:\n",
    "            #print user[0], user[1]\n",
    "            yield [user[0], user[1]]\n",
    "\n",
    "    def steps(self):\n",
    "        return [MRStep(mapper=self.mapper, reducer=self.reducer),\n",
    "                MRStep(reducer=self.reducer2)]\n",
    "\n",
    "\n",
    "if __name__ == '__main__':\n",
    "    #time_start = time.clock()\n",
    "    MRWordFrequencyCount().run()\n",
    "    #time_end = time.clock()\n",
    "    #print \"Time taken to completion of the metric: {0} in processor time\".format(time_end - time_start)\n"
   ]
  },
  {
   "cell_type": "markdown",
   "metadata": {
    "slideshow": {
     "slide_type": "slide"
    }
   },
   "source": [
    "**Results**\n",
    "\n",
    "###### Nintendo\n",
    "\n",
    "| Username | Amount of Tweets |\n",
    "|----------|------------------|\n",
    "| savetimeandmoey| 11.391|\n",
    "| AuctionPorn| 8.449|\n",
    "| AmazonBay4u| 8.352|\n",
    "| retrodeals| 7.435|\n",
    "| Nintendo_Legend| 6.895|\n",
    "| retrodealsUK| 6.744|\n",
    "| LastChanceGamer| 5.904|\n",
    "| GameUP247| 5.580|\n",
    "| RetroNuss| 5.441|\n",
    "| Nintendoe3E3| 5.438|\n",
    "\n",
    "###### Playstation\n",
    "\n",
    "| Username | Amount of Tweets |\n",
    "|----------|------------------|\n",
    "| Cammie_Whybrew| 13.616|\n",
    "| AskPlayStation| 13.282|\n",
    "| eBayShopperNews| 11.578|\n",
    "| VideoGamesMall| 10.274|\n",
    "| savetimeandmoey| 8.632|\n",
    "| collinschristof| 5.382|\n",
    "| topnewskoeln| 5.297|\n",
    "| Gamifive| 4.829|\n",
    "| Xbox_360_Gamez| 4.080|\n",
    "| pressebank| 3.799|\n",
    "\n",
    "###### Xbox\n",
    "\n",
    "| Username | Amount of Tweets |\n",
    "|----------|------------------|\n",
    "| Xbox_360_Gamez| 34.137|\n",
    "| XboxSupport| 14.421|\n",
    "| VideoGamesMall| 11.835|\n",
    "| Xbox_One_Reddit| 10.215|\n",
    "| xboxgamersdeals| 9.224|\n",
    "| GameUP247| 9.156|\n",
    "| KingsleyNewz| 9.139|\n",
    "| bullzyy| 7.576|\n",
    "| savetimeandmoey| 7.176|\n",
    "| giveawayxfab| 7.028|\n",
    "\n",
    "###### Else\n",
    "\n",
    "| Username | Amount of Tweets |\n",
    "|----------|------------------|\n",
    "| savetimeandmoey| 15.483|\n",
    "| VideoGames_Up| 13.804|\n",
    "| giveawaygigatop| 8.878|\n",
    "| tw100_1| 6.538|\n",
    "| videogames_pt| 6.357|\n",
    "| videogames_fr| 5.993|\n",
    "| giveawayxfab| 5.886|\n",
    "| DMGG_Videogames| 5.295|\n",
    "| ShoppeWorld| 4.824|\n",
    "| VideoGames_TV| 3.709|\n",
    "\n",
    "\n",
    "Time taken to completion of the metric: 335.930534 in processor time\n",
    "\n",
    "\n",
    "**Analysis**\n",
    "\n",
    "From this we can see that there are some users in more than one platform, and that they are one of the top 10 users that generate contents, which means that they are probably spammers, bots or someone really good at making records for almost all the platforms."
   ]
  },
  {
   "cell_type": "markdown",
   "metadata": {
    "slideshow": {
     "slide_type": "slide"
    }
   },
   "source": [
    "5) The nexts analysis of the data is by each hour of a day in every week (the data was gathered).\n",
    "\n",
    "5.1) We now calculate the Top 20 words. That is how many times a single word was used in each record for each platform. This is done with the next script."
   ]
  },
  {
   "cell_type": "code",
   "execution_count": null,
   "metadata": {
    "collapsed": false,
    "slideshow": {
     "slide_type": "fragment"
    }
   },
   "outputs": [],
   "source": [
    "import time\n",
    "import sys\n",
    "from nltk import word_tokenize\n",
    "from nltk.corpus import stopwords\n",
    "import string\n",
    "import json\n",
    "from datetime import datetime\n",
    "from dateutil.parser import parse\n",
    "import operator\n",
    "\n",
    "# The summary is for each hour per week. (i.e. 20 times hello on week 1, 31 times bye on week 2, ...)\n",
    "\n",
    "if __name__ == '__main__':\n",
    "    time_start = time.clock()\n",
    "    # Clean File.\n",
    "    open(\"count_words_by_platform_summary.txt\", 'w').close()\n",
    "    files = [\"project_tweets01.data\", \"project_tweets02.data\", \"project_tweets03.data\", \"project_tweets04.data\"]\n",
    "    for _file in files:\n",
    "        punctuation = []\n",
    "        open(_file[:-5] + \"_words.data\", 'w').close()\n",
    "        _output = open(_file[:-5] + \"_words.data\", 'a')\n",
    "        _output_filename = _output.name\n",
    "        for i in xrange(0, len(string.punctuation)):\n",
    "            punctuation.append(string.punctuation[i])\n",
    "        stop_words = stopwords.words() + punctuation\n",
    "        _data = open(_file, 'r')\n",
    "        for line in _data.readlines():\n",
    "            data = json.loads(line)\n",
    "            date = parse(data['created_at'])\n",
    "            week = date.isocalendar()[1]\n",
    "            hour = date.hour\n",
    "            _words = [i for i in word_tokenize(data['text'].lower()) if i not in stop_words]\n",
    "            for word in _words:\n",
    "                record = {'word': word, 'week': week, 'hour': hour}\n",
    "                _output.write(json.dumps(record, sort_keys=True) + \"\\n\")\n",
    "        _data.close()\n",
    "        _output.close()\n",
    "        # parameters for mrjob.\n",
    "        # To run your job in multiple subprocesses with a few Hadoop features simulated, use -r local.\n",
    "        option1 = \"\" #\"\"-r\"\n",
    "        option2 = \"\" #\"\"local\"\n",
    "        sys.argv = ['words_amount.py', option1, option2, _output_filename]\n",
    "        # Write to file in append mode.\n",
    "        _fo = open(\"count_words_by_platform_summary.txt\", 'a')\n",
    "        sys.stdout = _fo\n",
    "        print _file\n",
    "        execfile('words_amount.py')\n",
    "        print \"\\n\"\n",
    "\n",
    "    time_end = time.clock()\n",
    "    print \"Time taken to completion of the metric: {0} in processor time\".format(time_end - time_start)"
   ]
  },
  {
   "cell_type": "code",
   "execution_count": null,
   "metadata": {
    "collapsed": true,
    "slideshow": {
     "slide_type": "slide"
    }
   },
   "outputs": [],
   "source": [
    "from mrjob.job import MRJob\n",
    "from mrjob.step import MRStep\n",
    "from mrjob.protocol import JSONValueProtocol\n",
    "import time\n",
    "import itertools\n",
    "import sys\n",
    "from datetime import datetime\n",
    "from dateutil.parser import parse\n",
    "import operator\n",
    "\n",
    "class MRWordFrequencyCount(MRJob):\n",
    "    INPUT_PROTOCOL = JSONValueProtocol\n",
    "\n",
    "    def mapper(self, _, record):\n",
    "        hour = record['hour']\n",
    "        week = record['week']\n",
    "        word = record['word']\n",
    "        yield [(week, hour, word), 1]\n",
    "\n",
    "    def reducer(self, key, values):\n",
    "        yield [(key[0], key[1]), (sum(values), key[2])]\n",
    "\n",
    "    def reducer2(self, key, values):\n",
    "        counts = []\n",
    "        words = []\n",
    "        for value in values:\n",
    "            words.append(value[1])\n",
    "            counts.append(value[0])\n",
    "        pair_word_count = {}\n",
    "        for i in xrange(0, len(words)):\n",
    "            pair_word_count[words[i]] = counts[i]\n",
    "        top_words = sorted(pair_word_count.items(), key=lambda x: (x[1], operator.itemgetter(0)), reverse=True)\n",
    "        for word in top_words[0:20]:\n",
    "            #print user[0], user[1]\n",
    "            yield [(key[0], key[1], word[0]), word[1]]\n",
    "\n",
    "    def steps(self):\n",
    "        return [MRStep(mapper=self.mapper, reducer=self.reducer), MRStep(reducer=self.reducer2)]\n",
    "\n",
    "\n",
    "if __name__ == '__main__':\n",
    "    #time_start = time.clock()\n",
    "    MRWordFrequencyCount().run()\n",
    "    #time_end = time.clock()\n",
    "    #print \"Time taken to completion of the metric: {0} in processor time\".format(time_end - time_start)\n"
   ]
  },
  {
   "cell_type": "markdown",
   "metadata": {
    "slideshow": {
     "slide_type": "slide"
    }
   },
   "source": [
    "**Results**\n",
    "\n",
    "**Note:** Partial Results, because they were large files of output. \n",
    "\n",
    "###### Nintendo\n",
    "\n",
    "| Week | Hour | Word | Times Used |\n",
    "|----------|--|-|-|\n",
    "|...|...|...|...|\n",
    "|26| 0| \"nintendo\"|\t1429 |\n",
    "|26| 0| \"//\"|\t801|\n",
    "|26| 0| \"http\"|\t764|\n",
    "|26| 0| \"\\u2026\"|\t321|\n",
    "|26| 0| \"https\"|\t225|\n",
    "|26| 0| \"//www\"|\t185|\n",
    "|26| 0| \"...\"|\t149|\n",
    "|26| 0| \"t-shirt\"|\t138|\n",
    "|26| 0| \"games\"|\t135|\n",
    "|26| 0| \"3ds\"|\t135|\n",
    "|26| 0| \"design\"|\t131|\n",
    "|26| 0| \"contest\"|\t130|\n",
    "|26| 0| \"new\"|\t122|\n",
    "|26| 0| \"miyamoto\"|\t121|\n",
    "|26| 0| \"youtube\"|\t120|\n",
    "|26| 0| \"shigeru\"|\t119|\n",
    "|26| 0| \"judged\"|\t116|\n",
    "|26| 0| \"wii\"|\t112|\n",
    "|26| 0| \"'s\"|\t107|\n",
    "|26| 0| \"video\"|\t106|\n",
    "|26| 1| \"nintendo\"|\t1281|\n",
    "|26| 1| \"//\"|\t704|\n",
    "|26| 1| \"http\"|\t691|\n",
    "|26| 1| \"\\u2026\"|\t320|\n",
    "|26| 1| \"https\"|\t203|\n",
    "|26| 1| \"//www\"|\t190|\n",
    "|26| 1| \"wii\"|\t122|\n",
    "|26| 1| \"...\"|\t119|\n",
    "|26| 1| \"super\"|\t116|\n",
    "|26| 1| \"3ds\"|\t112|\n",
    "|26| 1| \"game\"|\t108|\n",
    "|26| 1| \"youtube\"|\t105|\n",
    "|26| 1| \"games\"|\t104|\n",
    "|26| 1| \"'s\"|\t103|\n",
    "|26| 1| \"nx\"|\t102|\n",
    "|26| 1| \"video\"|\t98|\n",
    "|26| 1| \"new\"|\t95|\n",
    "|26| 1| \"mario\"|\t89|\n",
    "|26| 1| \"ebay\"|\t78|\n",
    "|26| 1| \"console\"|\t70|\n",
    "|...|...|...|...|\n",
    "\n",
    "Time taken to completion of the metric: 11715.7655995 in processor time\n",
    "\n",
    "\n",
    "\n",
    "\n",
    "**Analysis**\n",
    "\n",
    "From this we can see which hours in which week. The Top 20 most used words in all of that period records by platform.\n",
    "\n"
   ]
  },
  {
   "cell_type": "markdown",
   "metadata": {
    "slideshow": {
     "slide_type": "slide"
    }
   },
   "source": [
    "5.2) We now calculate how many records have a sentiment of \"positiveness\", \"negativeness\" or \"neutralness\" for each platform with the next script."
   ]
  },
  {
   "cell_type": "code",
   "execution_count": null,
   "metadata": {
    "collapsed": true,
    "slideshow": {
     "slide_type": "fragment"
    }
   },
   "outputs": [],
   "source": [
    "import time\n",
    "import sys\n",
    "import sentiment_analyzer as sa\n",
    "\n",
    "# The summary is for each hour per week. (i.e. 20 positives tweets on week 1, 31 negative tweets on week 2, ...)\n",
    "\n",
    "if __name__ == '__main__':\n",
    "    time_start = time.clock()\n",
    "    sid = sa.init_classifier()\n",
    "    # Clean File.\n",
    "    open(\"sentiment_analysis_by_platform_summary.txt\", 'w').close()\n",
    "    files = [\"project_tweets01.data\", \"project_tweets02.data\", \"project_tweets03.data\", \"project_tweets04.data\"]\n",
    "    for _file in files:\n",
    "        _output_filename = sa.classify_file(_file, sid)\n",
    "        # parameters for mrjob.\n",
    "        # To run your job in multiple subprocesses with a few Hadoop features simulated, use -r local.\n",
    "        option1 = \"\" #\"\"-r\"\n",
    "        option2 = \"\" #\"\"local\"\n",
    "        sys.argv = ['sentiment_amount.py', option1, option2, _output_filename]\n",
    "        # Write to file in append mode.\n",
    "        _fo = open(\"sentiment_analysis_by_platform_summary.txt\", 'a')\n",
    "        sys.stdout = _fo\n",
    "        print _file\n",
    "        execfile('sentiment_amount.py')\n",
    "        print \"\\n\"\n",
    "\n",
    "    time_end = time.clock()\n",
    "\n",
    "    print \"Time taken to completion of the metric: {0} in processor time\".format(time_end - time_start)\n"
   ]
  },
  {
   "cell_type": "code",
   "execution_count": null,
   "metadata": {
    "collapsed": true,
    "slideshow": {
     "slide_type": "subslide"
    }
   },
   "outputs": [],
   "source": [
    "from nltk.classify import NaiveBayesClassifier\n",
    "from nltk.corpus import subjectivity\n",
    "from nltk.sentiment import SentimentAnalyzer\n",
    "from nltk.sentiment.util import *\n",
    "from nltk.sentiment.vader import SentimentIntensityAnalyzer\n",
    "import json\n",
    "import sys\n",
    "\n",
    "\n",
    "def init_classifier():\n",
    "    n_instances = 100\n",
    "    subj_docs = [(sent, 'subj') for sent in subjectivity.sents(categories='subj')[:n_instances]]\n",
    "    obj_docs = [(sent, 'obj') for sent in subjectivity.sents(categories='obj')[:n_instances]]\n",
    "\n",
    "    train_subj_docs = subj_docs[:80]\n",
    "    test_subj_docs = subj_docs[80:100]\n",
    "    train_obj_docs = obj_docs[:80]\n",
    "    test_obj_docs = obj_docs[80:100]\n",
    "    training_docs = train_subj_docs + train_obj_docs\n",
    "    testing_docs = test_subj_docs + test_obj_docs\n",
    "\n",
    "    sentim_analyzer = SentimentAnalyzer()\n",
    "    all_words_neg = sentim_analyzer.all_words([mark_negation(doc) for doc in training_docs])\n",
    "    unigram_feats = sentim_analyzer.unigram_word_feats(all_words_neg, min_freq=4)\n",
    "    sentim_analyzer.add_feat_extractor(extract_unigram_feats, unigrams=unigram_feats)\n",
    "    training_set = sentim_analyzer.apply_features(training_docs)\n",
    "    test_set = sentim_analyzer.apply_features(testing_docs)\n",
    "    trainer = NaiveBayesClassifier.train\n",
    "    classifier = sentim_analyzer.train(trainer, training_set)\n",
    "    sid = SentimentIntensityAnalyzer()\n",
    "    return sid\n",
    "\n",
    "\n",
    "def classify_file(_file, sid):\n",
    "    _data = open(_file, 'r')\n",
    "    open(_file[:-5] + \"_classified.data\", 'w').close()\n",
    "    _output = open(_file[:-5] + \"_classified.data\", 'a')\n",
    "    for line in _data.readlines():\n",
    "        record = json.loads(line)\n",
    "        ss = sid.polarity_scores(record['text'].encode('utf-8'))\n",
    "        if ss['compound'] < 0:\n",
    "            classification = \"neg\"\n",
    "        elif ss['compound'] == 0:\n",
    "            classification = \"neu\"\n",
    "        else:\n",
    "            classification = \"pos\"\n",
    "        try:\n",
    "            record.update({'classification': classification})\n",
    "            _output.write(json.dumps(record, sort_keys=True) + \"\\n\")\n",
    "        except:\n",
    "            # Should not happen.\n",
    "            print \"WTF!\"\n",
    "    _data.close()\n",
    "    _output.close()\n",
    "    return _output.name\n",
    "\n",
    "if __name__ == '__main__':\n",
    "    pass\n"
   ]
  },
  {
   "cell_type": "code",
   "execution_count": null,
   "metadata": {
    "collapsed": true,
    "slideshow": {
     "slide_type": "slide"
    }
   },
   "outputs": [],
   "source": [
    "from mrjob.job import MRJob\n",
    "from mrjob.step import MRStep\n",
    "from mrjob.protocol import JSONValueProtocol\n",
    "import time\n",
    "import itertools\n",
    "import sys\n",
    "from datetime import datetime\n",
    "from dateutil.parser import parse\n",
    "\n",
    "class MRWordFrequencyCount(MRJob):\n",
    "    INPUT_PROTOCOL = JSONValueProtocol\n",
    "\n",
    "    def mapper(self, _, record):\n",
    "        date = parse(record['created_at'])\n",
    "        week = date.isocalendar()[1]\n",
    "        hour = date.hour\n",
    "        yield [(week, hour, record['classification']), 1]\n",
    "\n",
    "    def reducer(self, key, values):\n",
    "        yield [key, sum(values)]\n",
    "\n",
    "    def steps(self):\n",
    "        return [MRStep(mapper=self.mapper, reducer=self.reducer)]\n",
    "\n",
    "\n",
    "if __name__ == '__main__':\n",
    "    #time_start = time.clock()\n",
    "    MRWordFrequencyCount().run()\n",
    "    #time_end = time.clock()\n",
    "    #print \"Time taken to completion of the metric: {0} in processor time\".format(time_end - time_start)\n"
   ]
  },
  {
   "cell_type": "markdown",
   "metadata": {
    "slideshow": {
     "slide_type": "slide"
    }
   },
   "source": [
    "**Confidence/Accuracy**\n",
    "\n",
    "But, first we have to know the \"confidence\" or the accuracy of our model to predict the sentiment of the tweets. To do this we pre-classify 100 tweets with the sentiment we could sense in it, of course this is also subjective but is the only way to see somekind of accuracy.\n",
    "To do this we made a file with the 100 tweets pre-classified and used the script above to identify the sentiment of it according to the model, which will make another file with both classifications, to be easy to compare by the next script. "
   ]
  },
  {
   "cell_type": "code",
   "execution_count": 1,
   "metadata": {
    "collapsed": false,
    "slideshow": {
     "slide_type": "fragment"
    }
   },
   "outputs": [
    {
     "name": "stdout",
     "output_type": "stream",
     "text": [
      "Training classifier\n",
      "The percentage of correct predictions for sentiments is: 89.0%\n"
     ]
    },
    {
     "name": "stderr",
     "output_type": "stream",
     "text": [
      "d:\\users\\benja\\documents\\icc1012_proyecto\\myenv\\lib\\site-packages\\nltk\\twitter\\__init__.py:20: UserWarning: The twython library has not been installed. Some functionality from the twitter package will not be available.\n",
      "  warnings.warn(\"The twython library has not been installed. \"\n"
     ]
    }
   ],
   "source": [
    "import sentiment_analyzer as sa\n",
    "import json\n",
    "\n",
    "# The preclassified files only have 100 registers, because we did not have more time to pre-classificate\n",
    "sentiment_file = \"preclassified_sentiment.data\"\n",
    "\n",
    "classifier = sa.init_classifier()\n",
    "_output2 = sa.classify_file(sentiment_file, classifier)\n",
    "\n",
    "# Check correct predictions of: sentiment\n",
    "count_errors = 0\n",
    "count_tweets = 0\n",
    "with open(_output2, 'r') as fo:\n",
    "    for line in fo.readlines():\n",
    "        if len(line) != 0:\n",
    "            values = json.loads(line)\n",
    "            if values['classification'] != values['real_classification']:\n",
    "                count_errors += 1\n",
    "            count_tweets += 1\n",
    "print \"The percentage of correct predictions for sentiments is: {}%\".format(float(count_tweets - count_errors) / count_tweets * 100)"
   ]
  },
  {
   "cell_type": "markdown",
   "metadata": {
    "slideshow": {
     "slide_type": "slide"
    }
   },
   "source": [
    "**Results**\n",
    "\n",
    "**Note:** Partial Results, because they were large files of output. \n",
    "\n",
    "###### Nintendo\n",
    "\n",
    "| Week | Hour | Sentiment | Quantity |\n",
    "|----------|--|-|-|\n",
    "|...|...|...|...|\n",
    "|14| 22| \"neu\"|\t1|\n",
    "|25| 17| \"neg\"|\t1|\n",
    "|26| 0| \"neg\"|\t149|\n",
    "|26| 0| \"neu\"|\t827|\n",
    "|26| 0| \"pos\"|\t485|\n",
    "|26| 1| \"neg\"|\t153|\n",
    "|26| 1| \"neu\"|\t721|\n",
    "|26| 1| \"pos\"|\t439|\n",
    "|...|...|...|...|\n",
    "\n",
    "\n",
    "Time taken to completion of the metric: 1356.91702487 in processor time\n",
    "\n",
    "\n",
    "**Analysis**\n",
    "\n",
    "From this we can see which hours in which week had more positive or negative records by platform.\n",
    "\n",
    "The peaks for Nintendo are. Week 35 we can the first peak is related to the Nintendo 3DS Direct. Week 42 we can see another peak that is related with the annoucement of Nintendo Switch.\n",
    "The peaks for Playstation are. Week 36 we can see the peak because there was a conference for the new PlayStation 4 PRO. Week 41 we can see that the amount of negative comments increased with the release of the PlayStation VR and later that same day the comments were more neutral about it. \n",
    "The peaks for Xbox are. Week 39 data flow increases maybe of the new Xbox One S. We can see that at the very end of the weeks the data flow increases, this could be because of the Xbox One S or the new Xbox Scorpio.\n"
   ]
  },
  {
   "cell_type": "markdown",
   "metadata": {
    "slideshow": {
     "slide_type": "slide"
    }
   },
   "source": [
    "**Graphics**"
   ]
  },
  {
   "cell_type": "code",
   "execution_count": 2,
   "metadata": {
    "collapsed": false,
    "slideshow": {
     "slide_type": "fragment"
    }
   },
   "outputs": [
    {
     "ename": "ValueError",
     "evalue": "incompatible sizes: argument 'height' must be length 394 or scalar",
     "output_type": "error",
     "traceback": [
      "\u001b[0;31m---------------------------------------------------------------------------\u001b[0m",
      "\u001b[0;31mValueError\u001b[0m                                Traceback (most recent call last)",
      "\u001b[0;32m<ipython-input-2-118d66987d5a>\u001b[0m in \u001b[0;36m<module>\u001b[0;34m()\u001b[0m\n\u001b[1;32m     58\u001b[0m \u001b[1;33m\u001b[0m\u001b[0m\n\u001b[1;32m     59\u001b[0m \u001b[0mplt\u001b[0m\u001b[1;33m.\u001b[0m\u001b[0mxticks\u001b[0m\u001b[1;33m(\u001b[0m\u001b[0mind\u001b[0m \u001b[1;33m+\u001b[0m \u001b[0mwidth\u001b[0m\u001b[1;33m/\u001b[0m\u001b[1;36m2\u001b[0m\u001b[1;33m,\u001b[0m \u001b[0mx_neu_name\u001b[0m\u001b[1;33m)\u001b[0m\u001b[1;33m\u001b[0m\u001b[0m\n\u001b[0;32m---> 60\u001b[0;31m \u001b[0mneu_plt\u001b[0m \u001b[1;33m=\u001b[0m \u001b[0mplt\u001b[0m\u001b[1;33m.\u001b[0m\u001b[0mbar\u001b[0m\u001b[1;33m(\u001b[0m\u001b[1;36m0.6\u001b[0m \u001b[1;33m+\u001b[0m \u001b[0mind\u001b[0m\u001b[1;33m,\u001b[0m \u001b[0my_neu\u001b[0m\u001b[1;33m,\u001b[0m \u001b[0mwidth\u001b[0m\u001b[1;33m,\u001b[0m\u001b[0mcolor\u001b[0m\u001b[1;33m=\u001b[0m\u001b[1;34m\"blue\"\u001b[0m\u001b[1;33m,\u001b[0m\u001b[0mlabel\u001b[0m\u001b[1;33m=\u001b[0m\u001b[1;34m'neutral'\u001b[0m\u001b[1;33m,\u001b[0m\u001b[0mbottom\u001b[0m\u001b[1;33m=\u001b[0m\u001b[0my_neg\u001b[0m\u001b[1;33m,\u001b[0m \u001b[0medgecolor\u001b[0m \u001b[1;33m=\u001b[0m \u001b[1;34m\"none\"\u001b[0m\u001b[1;33m)\u001b[0m\u001b[1;33m\u001b[0m\u001b[0m\n\u001b[0m\u001b[1;32m     61\u001b[0m \u001b[1;33m\u001b[0m\u001b[0m\n\u001b[1;32m     62\u001b[0m \u001b[1;33m\u001b[0m\u001b[0m\n",
      "\u001b[0;32md:\\users\\benja\\documents\\icc1012_proyecto\\myenv\\lib\\site-packages\\matplotlib\\pyplot.pyc\u001b[0m in \u001b[0;36mbar\u001b[0;34m(left, height, width, bottom, hold, data, **kwargs)\u001b[0m\n\u001b[1;32m   2648\u001b[0m     \u001b[1;32mtry\u001b[0m\u001b[1;33m:\u001b[0m\u001b[1;33m\u001b[0m\u001b[0m\n\u001b[1;32m   2649\u001b[0m         ret = ax.bar(left, height, width=width, bottom=bottom, data=data,\n\u001b[0;32m-> 2650\u001b[0;31m                      **kwargs)\n\u001b[0m\u001b[1;32m   2651\u001b[0m     \u001b[1;32mfinally\u001b[0m\u001b[1;33m:\u001b[0m\u001b[1;33m\u001b[0m\u001b[0m\n\u001b[1;32m   2652\u001b[0m         \u001b[0max\u001b[0m\u001b[1;33m.\u001b[0m\u001b[0mhold\u001b[0m\u001b[1;33m(\u001b[0m\u001b[0mwashold\u001b[0m\u001b[1;33m)\u001b[0m\u001b[1;33m\u001b[0m\u001b[0m\n",
      "\u001b[0;32md:\\users\\benja\\documents\\icc1012_proyecto\\myenv\\lib\\site-packages\\matplotlib\\__init__.pyc\u001b[0m in \u001b[0;36minner\u001b[0;34m(ax, *args, **kwargs)\u001b[0m\n\u001b[1;32m   1817\u001b[0m                     warnings.warn(msg % (label_namer, func.__name__),\n\u001b[1;32m   1818\u001b[0m                                   RuntimeWarning, stacklevel=2)\n\u001b[0;32m-> 1819\u001b[0;31m             \u001b[1;32mreturn\u001b[0m \u001b[0mfunc\u001b[0m\u001b[1;33m(\u001b[0m\u001b[0max\u001b[0m\u001b[1;33m,\u001b[0m \u001b[1;33m*\u001b[0m\u001b[0margs\u001b[0m\u001b[1;33m,\u001b[0m \u001b[1;33m**\u001b[0m\u001b[0mkwargs\u001b[0m\u001b[1;33m)\u001b[0m\u001b[1;33m\u001b[0m\u001b[0m\n\u001b[0m\u001b[1;32m   1820\u001b[0m         \u001b[0mpre_doc\u001b[0m \u001b[1;33m=\u001b[0m \u001b[0minner\u001b[0m\u001b[1;33m.\u001b[0m\u001b[0m__doc__\u001b[0m\u001b[1;33m\u001b[0m\u001b[0m\n\u001b[1;32m   1821\u001b[0m         \u001b[1;32mif\u001b[0m \u001b[0mpre_doc\u001b[0m \u001b[1;32mis\u001b[0m \u001b[0mNone\u001b[0m\u001b[1;33m:\u001b[0m\u001b[1;33m\u001b[0m\u001b[0m\n",
      "\u001b[0;32md:\\users\\benja\\documents\\icc1012_proyecto\\myenv\\lib\\site-packages\\matplotlib\\axes\\_axes.pyc\u001b[0m in \u001b[0;36mbar\u001b[0;34m(self, left, height, width, bottom, **kwargs)\u001b[0m\n\u001b[1;32m   2036\u001b[0m         \u001b[1;32mif\u001b[0m \u001b[0mlen\u001b[0m\u001b[1;33m(\u001b[0m\u001b[0mheight\u001b[0m\u001b[1;33m)\u001b[0m \u001b[1;33m!=\u001b[0m \u001b[0mnbars\u001b[0m\u001b[1;33m:\u001b[0m\u001b[1;33m\u001b[0m\u001b[0m\n\u001b[1;32m   2037\u001b[0m             raise ValueError(\"incompatible sizes: argument 'height' \"\n\u001b[0;32m-> 2038\u001b[0;31m                               \"must be length %d or scalar\" % nbars)\n\u001b[0m\u001b[1;32m   2039\u001b[0m         \u001b[1;32mif\u001b[0m \u001b[0mlen\u001b[0m\u001b[1;33m(\u001b[0m\u001b[0mwidth\u001b[0m\u001b[1;33m)\u001b[0m \u001b[1;33m!=\u001b[0m \u001b[0mnbars\u001b[0m\u001b[1;33m:\u001b[0m\u001b[1;33m\u001b[0m\u001b[0m\n\u001b[1;32m   2040\u001b[0m             raise ValueError(\"incompatible sizes: argument 'width' \"\n",
      "\u001b[0;31mValueError\u001b[0m: incompatible sizes: argument 'height' must be length 394 or scalar"
     ]
    }
   ],
   "source": [
    "import matplotlib.pyplot as plt\n",
    "import numpy as np\n",
    "\n",
    "archivo = open(\"sentiment_analysis_by_platform_summary.txt\")\n",
    "\n",
    "########################################\n",
    "###############Nintendo#################\n",
    "########################################\n",
    "\n",
    "archivo.readline()\n",
    "archivo.readline()\n",
    "pos = []\n",
    "neg = []\n",
    "neu = []\n",
    "chars_to_remove = [',', '[', ']', '\"']\n",
    "while True:\n",
    "\ti = archivo.readline()\n",
    "\tline = i.translate(None, ''.join(chars_to_remove))\n",
    "\tline = line.split()\n",
    "\tif len(line) == 0:\n",
    "\t\tbreak\n",
    "\tif line[2] == \"pos\":\n",
    "\t\tpos.append([int(line[0]), int(line[1]), int(line[3])])\n",
    "\telif line[2] == \"neg\":\n",
    "\t\tneg.append([int(line[0]), int(line[1]), int(line[3])])\n",
    "\telse:\n",
    "\t\tneu.append([int(line[0]), int(line[1]), int(line[3])])\n",
    "neg.pop()\n",
    "n= len(neg)\n",
    "neg = sorted(neg)\n",
    "neu = sorted(neu)\n",
    "pos = sorted(pos)\n",
    "for i in xrange(n):\n",
    "\tsuma = float(neg[i][2]+neu[i][2]+pos[i][2])\n",
    "\tneu[i][2] = neu[i][2]/suma\n",
    "\tpos[i][2] = pos[i][2]/suma\n",
    "\tneg[i][2] = neg[i][2]/suma\n",
    "width= 1\n",
    "ind=np.arange(n)\n",
    "\n",
    "x_neg_name = []\n",
    "y_neg = []\n",
    "\n",
    "ax = plt.subplot(111)\n",
    "for i in sorted(neg):\n",
    "\tx_neg_name.append(str(i[0])+ \" \" + str(i[1]))\n",
    "\ty_neg.append(i[2])\n",
    "\n",
    "plt.xticks(ind + width/2, x_neg_name)\n",
    "neg_plt = plt.bar(0.6 + ind, y_neg,width, color=\"red\",label='negatives', edgecolor = \"none\")\n",
    "\n",
    "x_neu_name = []\n",
    "y_neu = []\n",
    "\n",
    "for i in sorted(neu):\n",
    "\tx_neu_name.append(str(i[0])+ \" \" + str(i[1]))\n",
    "\ty_neu.append(i[2])\n",
    "\n",
    "plt.xticks(ind + width/2, x_neu_name)\n",
    "neu_plt = plt.bar(0.6 + ind, y_neu, width,color=\"blue\",label='neutral',bottom=y_neg, edgecolor = \"none\")\n",
    "\n",
    "\n",
    "\n",
    "x_pos_name = []\n",
    "y_pos = []\n",
    "\n",
    "for i in sorted(pos):\n",
    "\tx_pos_name.append(str(i[0])+ \" \" + str(i[1]))\n",
    "\ty_pos.append(i[2])\n",
    "\n",
    "\n",
    "plt.xticks(ind + width/2, x_pos_name)\n",
    "pos_plt = plt.bar(0.6 + ind, y_pos, width,color=\"green\", label='positive', bottom=np.array(y_neu)+np.array(y_neg), edgecolor = \"none\")\n",
    "box = ax.get_position()\n",
    "ax.set_position([box.x0, box.y0, box.width * 0.8, box.height])\n",
    "ax.legend(loc='center left', bbox_to_anchor=(1, 0.5))\n",
    "plt.title(\"Nintendo\")\n",
    "plt.xlabel('Week & Hour')\n",
    "plt.ylabel('Ratio')\n",
    "plt.show()\n",
    "\n",
    "########################################\n",
    "#############Playstation################\n",
    "########################################\n",
    "\n",
    "archivo.readline()\n",
    "archivo.readline()\n",
    "pos = []\n",
    "neg = []\n",
    "neu = []\n",
    "chars_to_remove = [',', '[', ']', '\"']\n",
    "while True:\n",
    "\ti = archivo.readline()\n",
    "\tline = i.translate(None, ''.join(chars_to_remove))\n",
    "\tline = line.split()\n",
    "\tif len(line) == 0:\n",
    "\t\tbreak\n",
    "\tif line[2] == \"pos\":\n",
    "\t\tpos.append([int(line[0]), int(line[1]), int(line[3])])\n",
    "\telif line[2] == \"neg\":\n",
    "\t\tneg.append([int(line[0]), int(line[1]), int(line[3])])\n",
    "\telse:\n",
    "\t\tneu.append([int(line[0]), int(line[1]), int(line[3])])\n",
    "neg.pop()\n",
    "n= len(neg)\n",
    "neg = sorted(neg)\n",
    "neu = sorted(neu)\n",
    "pos = sorted(pos)\n",
    "\n",
    "for i in xrange(n):\n",
    "\tsuma = float(neg[i][2]+neu[i][2]+pos[i][2])\n",
    "\tneu[i][2] = neu[i][2]/suma\n",
    "\tpos[i][2] = pos[i][2]/suma\n",
    "\tneg[i][2] = neg[i][2]/suma\n",
    "\n",
    "width= 1\n",
    "ind=np.arange(n)\n",
    "\n",
    "x_neg_name = []\n",
    "y_neg = []\n",
    "\n",
    "ax = plt.subplot(111)\n",
    "for i in sorted(neg):\n",
    "\tx_neg_name.append(str(i[0])+ \" \" + str(i[1]))\n",
    "\ty_neg.append(i[2])\n",
    "\t\n",
    "plt.xticks(ind + width/2, x_neg_name)\n",
    "neg_plt = plt.bar(0.6 + ind, y_neg,width, color=\"red\",label='negatives', edgecolor = \"none\")\n",
    "\n",
    "x_neu_name = []\n",
    "y_neu = []\n",
    "\n",
    "for i in sorted(neu):\n",
    "\tx_neu_name.append(str(i[0])+ \" \" + str(i[1]))\n",
    "\ty_neu.append(i[2])\n",
    "\t\n",
    "plt.xticks(ind + width/2, x_neu_name)\n",
    "neu_plt = plt.bar(0.6 + ind, y_neu, width,color=\"blue\",label='neutral',bottom=y_neg, edgecolor = \"none\")\n",
    "\n",
    "x_pos_name = []\n",
    "y_pos = []\n",
    "\n",
    "for i in sorted(pos):\n",
    "\tx_pos_name.append(str(i[0])+ \" \" + str(i[1]))\n",
    "\ty_pos.append(i[2])\n",
    "\n",
    "plt.xticks(ind + width/2, x_pos_name)\n",
    "pos_plt = plt.bar(0.6 + ind, y_pos, width,color=\"green\", label='positive', bottom=np.array(y_neu)+np.array(y_neg), edgecolor = \"none\")\n",
    "box = ax.get_position()\n",
    "ax.set_position([box.x0, box.y0, box.width * 0.8, box.height])\n",
    "ax.legend(loc='center left', bbox_to_anchor=(1, 0.5))\n",
    "plt.title(\"Playstation\")\n",
    "plt.xlabel('Week & Hour')\n",
    "plt.ylabel('Ratio')\n",
    "plt.show()\n",
    "\n",
    "########################################\n",
    "#################Xbox###################\n",
    "########################################\n",
    "\n",
    "archivo.readline()\n",
    "archivo.readline()\n",
    "pos = []\n",
    "neg = []\n",
    "neu = []\n",
    "chars_to_remove = [',', '[', ']', '\"']\n",
    "while True:\n",
    "\ti = archivo.readline()\n",
    "\tline = i.translate(None, ''.join(chars_to_remove))\n",
    "\tline = line.split()\n",
    "\tif len(line) == 0:\n",
    "\t\tbreak\n",
    "\tif line[2] == \"pos\":\n",
    "\t\tpos.append([int(line[0]), int(line[1]), int(line[3])])\n",
    "\telif line[2] == \"neg\":\n",
    "\t\tneg.append([int(line[0]), int(line[1]), int(line[3])])\n",
    "\telse:\n",
    "\t\tneu.append([int(line[0]), int(line[1]), int(line[3])])\n",
    "n= len(neg)\n",
    "neg = sorted(neg)\n",
    "neu = sorted(neu)\n",
    "pos = sorted(pos)\n",
    "\n",
    "for i in xrange(n):\n",
    "\tsuma = float(neg[i][2]+neu[i][2]+pos[i][2])\n",
    "\tneu[i][2] = neu[i][2]/suma\n",
    "\tpos[i][2] = pos[i][2]/suma\n",
    "\tneg[i][2] = neg[i][2]/suma\n",
    "\n",
    "width= 1\n",
    "ind=np.arange(n)\n",
    "\n",
    "x_neg_name = []\n",
    "y_neg = []\n",
    "\n",
    "ax = plt.subplot(111)\n",
    "for i in sorted(neg):\n",
    "\tx_neg_name.append(str(i[0])+ \" \" + str(i[1]))\n",
    "\ty_neg.append(i[2])\n",
    "\n",
    "plt.xticks(ind + width/2, x_neg_name)\n",
    "neg_plt = plt.bar(0.6 + ind, y_neg,width, color=\"red\",label='negatives', edgecolor = \"none\")\n",
    "\n",
    "x_neu_name = []\n",
    "y_neu = []\n",
    "\n",
    "for i in sorted(neu):\n",
    "\tx_neu_name.append(str(i[0])+ \" \" + str(i[1]))\n",
    "\ty_neu.append(i[2])\n",
    "\t\n",
    "plt.xticks(ind + width/2, x_neu_name)\n",
    "neu_plt = plt.bar(0.6 + ind, y_neu, width,color=\"blue\",label='neutral',bottom=y_neg, edgecolor = \"none\")\n",
    "\n",
    "x_pos_name = []\n",
    "y_pos = []\n",
    "\n",
    "for i in sorted(pos):\n",
    "\tx_pos_name.append(str(i[0])+ \" \" + str(i[1]))\n",
    "\ty_pos.append(i[2])\n",
    "\t\n",
    "\n",
    "plt.xticks(ind + width/2, x_pos_name)\n",
    "pos_plt = plt.bar(0.6 + ind, y_pos, width,color=\"green\", label='positive', bottom=np.array(y_neu)+np.array(y_neg), edgecolor = \"none\")\n",
    "box = ax.get_position()\n",
    "ax.set_position([box.x0, box.y0, box.width * 0.8, box.height])\n",
    "ax.legend(loc='center left', bbox_to_anchor=(1, 0.5))\n",
    "plt.title(\"Xbox\")\n",
    "plt.xlabel('Week & Hour')\n",
    "plt.ylabel('Ratio')\n",
    "plt.show()\n",
    "\n",
    "########################################\n",
    "#################Others#################\n",
    "########################################\n",
    "\n",
    "archivo.readline()\n",
    "archivo.readline()\n",
    "pos = []\n",
    "neg = []\n",
    "neu = []\n",
    "chars_to_remove = [',', '[', ']', '\"']\n",
    "while True:\n",
    "\ti = archivo.readline()\n",
    "\tline = i.translate(None, ''.join(chars_to_remove))\n",
    "\tline = line.split()\n",
    "\tif len(line) == 0:\n",
    "\t\tbreak\n",
    "\tif line[2] == \"pos\":\n",
    "\t\tpos.append([int(line[0]), int(line[1]), int(line[3])])\n",
    "\telif line[2] == \"neg\":\n",
    "\t\tneg.append([int(line[0]), int(line[1]), int(line[3])])\n",
    "\telse:\n",
    "\t\tneu.append([int(line[0]), int(line[1]), int(line[3])])\n",
    "neu.pop()\n",
    "n= len(neu)\n",
    "neg = sorted(neg)\n",
    "neu = sorted(neu)\n",
    "pos = sorted(pos)\n",
    "\n",
    "for i in xrange(n):\n",
    "\tsuma = float(neg[i][2]+neu[i][2]+pos[i][2])\n",
    "\tneu[i][2] = neu[i][2]/suma\n",
    "\tpos[i][2] = pos[i][2]/suma\n",
    "\tneg[i][2] = neg[i][2]/suma\n",
    "\n",
    "width= 1\n",
    "ind=np.arange(n)\n",
    "\n",
    "x_neg_name = []\n",
    "y_neg = []\n",
    "\n",
    "ax = plt.subplot(111)\n",
    "for i in sorted(neg):\n",
    "\tx_neg_name.append(str(i[0])+ \" \" + str(i[1]))\n",
    "\ty_neg.append(i[2])\n",
    "\n",
    "plt.xticks(ind + width/2, x_neg_name)\n",
    "neg_plt = plt.bar(0.6 + ind, y_neg,width, color=\"red\",label='negatives', edgecolor = \"none\")\n",
    "\n",
    "\n",
    "x_neu_name = []\n",
    "y_neu = []\n",
    "\n",
    "for i in sorted(neu):\n",
    "\tx_neu_name.append(str(i[0])+ \" \" + str(i[1]))\n",
    "\ty_neu.append(i[2])\n",
    "\n",
    "plt.xticks(ind + width/2, x_neu_name)\n",
    "neu_plt = plt.bar(0.6 + ind, y_neu, width,color=\"blue\",label='neutral',bottom=y_neg, edgecolor = \"none\")\n",
    "\n",
    "x_pos_name = []\n",
    "y_pos = []\n",
    "\n",
    "for i in sorted(pos):\n",
    "\tx_pos_name.append(str(i[0])+ \" \" + str(i[1]))\n",
    "\ty_pos.append(i[2])\n",
    "\n",
    "plt.xticks(ind + width/2, x_pos_name)\n",
    "pos_plt = plt.bar(0.6 + ind, y_pos, width,color=\"green\", label='positive', bottom=np.array(y_neu)+np.array(y_neg), edgecolor = \"none\")\n",
    "box = ax.get_position()\n",
    "ax.set_position([box.x0, box.y0, box.width * 0.8, box.height])\n",
    "ax.legend(loc='center left', bbox_to_anchor=(1, 0.5))\n",
    "plt.title(\"Others\")\n",
    "plt.xlabel('Week & Hour')\n",
    "plt.ylabel('Ratio')\n",
    "plt.show()"
   ]
  },
  {
   "cell_type": "code",
   "execution_count": 3,
   "metadata": {
    "collapsed": false
   },
   "outputs": [
    {
     "data": {
      "image/png": "[encoded data removed]",
      "text/plain": [
       "<matplotlib.figure.Figure at 0x6866e50>"
      ]
     },
     "metadata": {},
     "output_type": "display_data"
    }
   ],
   "source": [
    "import matplotlib.pyplot as plt\n",
    "import numpy as np\n",
    "\n",
    "archivo = open(\"sentiment_analysis_by_platform_summary.txt\")\n",
    "archivo.readline()\n",
    "archivo.readline()\n",
    "pos_nintendo = 0\n",
    "neg_nintendo = 0\n",
    "neu_nintendo = 0\n",
    "chars_to_remove = [',', '[', ']', '\"']\n",
    "while True:\n",
    "\ti = archivo.readline()\n",
    "\tline = i.translate(None, ''.join(chars_to_remove))\n",
    "\tline = line.split()\n",
    "\tif len(line) == 0:\n",
    "\t\tbreak\n",
    "\tif line[2] == \"pos\":\n",
    "\t\tpos_nintendo += int(line[3])\n",
    "\telif line[2] == \"neg\":\n",
    "\t\tneg_nintendo += int(line[3])\n",
    "\telse:\n",
    "\t\tneu_nintendo += int(line[3])\n",
    "\n",
    "########################################\n",
    "#############Playstation################\n",
    "########################################\n",
    "\n",
    "archivo.readline()\n",
    "archivo.readline()\n",
    "pos_playstation = 0\n",
    "neg_playstation = 0\n",
    "neu_playstation = 0\n",
    "chars_to_remove = [',', '[', ']', '\"']\n",
    "while True:\n",
    "\ti = archivo.readline()\n",
    "\tline = i.translate(None, ''.join(chars_to_remove))\n",
    "\tline = line.split()\n",
    "\tif len(line) == 0:\n",
    "\t\tbreak\n",
    "\tif line[2] == \"pos\":\n",
    "\t\tpos_playstation += int(line[3])\n",
    "\telif line[2] == \"neg\":\n",
    "\t\tneg_playstation += int(line[3])\n",
    "\telse:\n",
    "\t\tneu_playstation += int(line[3])\n",
    "\n",
    "########################################\n",
    "#################Xbox###################\n",
    "########################################\n",
    "\n",
    "archivo.readline()\n",
    "archivo.readline()\n",
    "pos_xbox = 0\n",
    "neg_xbox = 0\n",
    "neu_xbox = 0\n",
    "chars_to_remove = [',', '[', ']', '\"']\n",
    "while True:\n",
    "\ti = archivo.readline()\n",
    "\tline = i.translate(None, ''.join(chars_to_remove))\n",
    "\tline = line.split()\n",
    "\tif len(line) == 0:\n",
    "\t\tbreak\n",
    "\tif line[2] == \"pos\":\n",
    "\t\tpos_xbox += int(line[3])\n",
    "\telif line[2] == \"neg\":\n",
    "\t\tneg_xbox += int(line[3])\n",
    "\telse:\n",
    "\t\tneu_xbox += int(line[3])\n",
    "\n",
    "########################################\n",
    "#################Others#################\n",
    "########################################\n",
    "\n",
    "archivo.readline()\n",
    "archivo.readline()\n",
    "pos_others = 0\n",
    "neg_others = 0\n",
    "neu_others = 0\n",
    "chars_to_remove = [',', '[', ']', '\"']\n",
    "while True:\n",
    "\ti = archivo.readline()\n",
    "\tline = i.translate(None, ''.join(chars_to_remove))\n",
    "\tline = line.split()\n",
    "\tif len(line) == 0:\n",
    "\t\tbreak\n",
    "\tif line[2] == \"pos\":\n",
    "\t\tpos_others += int(line[3])\n",
    "\telif line[2] == \"neg\":\n",
    "\t\tneg_others += int(line[3])\n",
    "\telse:\n",
    "\t\tneu_others += int(line[3])\n",
    "\n",
    "\n",
    "total_pos = float(pos_nintendo + pos_xbox + pos_playstation + pos_others)\n",
    "total_neg = float(neg_others + neg_xbox + neg_playstation + neg_nintendo)\n",
    "total_neu = float(neu_others + neu_xbox + neu_playstation + neu_nintendo)\n",
    "\n",
    "nintendo_plot = [float(pos_nintendo/total_pos), float(neg_nintendo/total_neg), float(neu_nintendo/total_neu)]\n",
    "playstation_plot = [float(pos_playstation/total_pos), float(neg_playstation/total_neg), float(neu_playstation/total_neu)]\n",
    "xbox_plot = [float(pos_xbox/total_pos), float(neg_xbox/total_neg), float(neu_xbox/total_neu)]\n",
    "others_plot = [float(pos_others/total_pos), float(neg_others/total_neg), float(neu_others/total_neu)]\n",
    "ind=np.arange(3)\n",
    "width= 1\n",
    "x_valus=['Positive', 'Negative', 'Neutral']\n",
    "ax = plt.subplot(111)\n",
    "bottom=[1]*3\n",
    "plt.xticks(ind + 0.5, x_valus)\n",
    "bottom -= np.array(nintendo_plot)\n",
    "plt.bar(ind , nintendo_plot, width,label='Nintendo', color='red', bottom=bottom)\n",
    "bottom -= np.array(playstation_plot)\n",
    "plt.bar(ind, playstation_plot, width,label='Playstation', bottom=bottom)\n",
    "bottom -= np.array(xbox_plot)\n",
    "plt.bar(ind, xbox_plot, width,label='Xbox', bottom=bottom, color='green')\n",
    "bottom -= np.array(others_plot)\n",
    "plt.bar(ind, others_plot, width,label='Others', bottom=bottom, color='yellow')\n",
    "box = ax.get_position()\n",
    "ax.set_position([box.x0, box.y0, box.width * 0.8, box.height])\n",
    "ax.legend(loc='center left', bbox_to_anchor=(1, 0.5))\n",
    "plt.title(\"Sentiment Compare by Plataform\")\n",
    "plt.xlabel('Sentiment')\n",
    "plt.ylabel('Ratio')\n",
    "plt.axis([0, 3, 0, 1])\n",
    "plt.show()"
   ]
  },
  {
   "cell_type": "markdown",
   "metadata": {
    "slideshow": {
     "slide_type": "slide"
    }
   },
   "source": [
    "5.3) We now calculate how many records are from the different languages for each platform with the next script."
   ]
  },
  {
   "cell_type": "code",
   "execution_count": null,
   "metadata": {
    "collapsed": true,
    "slideshow": {
     "slide_type": "fragment"
    }
   },
   "outputs": [],
   "source": [
    "import time\n",
    "import sys\n",
    "import language_detect as ld\n",
    "\n",
    "# The summary is for each hour per week. (i.e. 20 spanish tweets on week 1, 31 english tweets on week 2, ...)\n",
    "\n",
    "# Important Note: This is just an estimation of the language based on the stopwords, so if no stopwords are found the language\n",
    "#                   that will produce is garbage, but is not the fault of the model. Also if there are some stopwords of both\n",
    "#                   languages it will say is the one with most stopwords.\n",
    "\n",
    "if __name__ == '__main__':\n",
    "    time_start = time.clock()\n",
    "    # Clean File.\n",
    "    open(\"languages_amount_by_platform_summary.txt\", 'w').close()\n",
    "    files = [\"project_tweets01.data\", \"project_tweets02.data\", \"project_tweets03.data\", \"project_tweets04.data\"]\n",
    "    for _file in files:\n",
    "        _output_filename = ld.set_language_for_each_tweet(_file)\n",
    "        # parameters for mrjob.\n",
    "        # To run your job in multiple subprocesses with a few Hadoop features simulated, use -r local.\n",
    "        option1 = \"\" #\"\"-r\"\n",
    "        option2 = \"\" #\"\"local\"\n",
    "        sys.argv = ['count_language.py', option1, option2, _output_filename]\n",
    "        # Write to file in append mode.\n",
    "        _fo = open(\"languages_amount_by_platform_summary.txt\", 'a')\n",
    "        sys.stdout = _fo\n",
    "        print _file\n",
    "        execfile('count_language.py')\n",
    "        print \"\\n\"\n",
    "\n",
    "    time_end = time.clock()\n",
    "    print \"Time taken to completion of the metric: {0} in processor time\".format(time_end - time_start)\n"
   ]
  },
  {
   "cell_type": "code",
   "execution_count": null,
   "metadata": {
    "collapsed": true,
    "slideshow": {
     "slide_type": "slide"
    }
   },
   "outputs": [],
   "source": [
    "import sys\n",
    "import json\n",
    "reload(sys)\n",
    "sys.setdefaultencoding('utf8')\n",
    "try:\n",
    "    from nltk import wordpunct_tokenize\n",
    "    from nltk.corpus import stopwords\n",
    "except ImportError:\n",
    "    print '[!] You need to install nltk (http://nltk.org/index.html)'\n",
    "\n",
    "\n",
    "\n",
    "#----------------------------------------------------------------------\n",
    "def _calculate_languages_ratios(text):\n",
    "    \"\"\"\n",
    "    Calculate probability of given text to be written in several languages and\n",
    "    return a dictionary that looks like {'french': 2, 'spanish': 4, 'english': 0}\n",
    "    \n",
    "    @param text: Text whose language want to be detected\n",
    "    @type text: str\n",
    "    \n",
    "    @return: Dictionary with languages and unique stopwords seen in analyzed text\n",
    "    @rtype: dict\n",
    "    \"\"\"\n",
    "\n",
    "    languages_ratios = {}\n",
    "\n",
    "    '''\n",
    "    nltk.wordpunct_tokenize() splits all punctuations into separate tokens\n",
    "    \n",
    "    >>> wordpunct_tokenize(\"That's thirty minutes away. I'll be there in ten.\")\n",
    "    ['That', \"'\", 's', 'thirty', 'minutes', 'away', '.', 'I', \"'\", 'll', 'be', 'there', 'in', 'ten', '.']\n",
    "    '''\n",
    "\n",
    "    tokens = wordpunct_tokenize(text)\n",
    "    words = [word.lower() for word in tokens]\n",
    "\n",
    "    # Compute per language included in nltk number of unique stopwords appearing in analyzed text\n",
    "    for language in stopwords.fileids():\n",
    "        stopwords_set = set(stopwords.words(language))\n",
    "        words_set = set(words)\n",
    "        common_elements = words_set.intersection(stopwords_set)\n",
    "\n",
    "        languages_ratios[language] = len(common_elements) # language \"score\"\n",
    "\n",
    "    return languages_ratios\n",
    "\n",
    "\n",
    "#----------------------------------------------------------------------\n",
    "def detect_language(text):\n",
    "    \"\"\"\n",
    "    Calculate probability of given text to be written in several languages and\n",
    "    return the highest scored.\n",
    "    \n",
    "    It uses a stopwords based approach, counting how many unique stopwords\n",
    "    are seen in analyzed text.\n",
    "    \n",
    "    @param text: Text whose language want to be detected\n",
    "    @type text: str\n",
    "    \n",
    "    @return: Most scored language guessed\n",
    "    @rtype: str\n",
    "    \"\"\"\n",
    "\n",
    "    ratios = _calculate_languages_ratios(text)\n",
    "\n",
    "    most_rated_language = max(ratios, key=ratios.get)\n",
    "\n",
    "    return most_rated_language\n",
    "\n",
    "\n",
    "def set_language_for_each_tweet(_file):\n",
    "    _data = open(_file, 'r')\n",
    "    open(_file[:-5] + \"_language.data\", 'w').close()\n",
    "    _output = open(_file[:-5] + \"_language.data\", 'a')\n",
    "    for line in _data.readlines():\n",
    "        record = json.loads(line)\n",
    "        language = detect_language(record['text'].encode('utf-8'))\n",
    "        try:\n",
    "            record.update({'language': language})\n",
    "            _output.write(json.dumps(record, sort_keys=True) + \"\\n\")\n",
    "        except:\n",
    "            # Should not happen.\n",
    "            print \"WTF!\"\n",
    "    _data.close()\n",
    "    _output.close()\n",
    "    return _output.name\n",
    "\n"
   ]
  },
  {
   "cell_type": "code",
   "execution_count": null,
   "metadata": {
    "collapsed": true,
    "slideshow": {
     "slide_type": "slide"
    }
   },
   "outputs": [],
   "source": [
    "from mrjob.job import MRJob\n",
    "from mrjob.step import MRStep\n",
    "from mrjob.protocol import JSONValueProtocol\n",
    "from datetime import datetime\n",
    "import itertools\n",
    "from datetime import datetime\n",
    "from dateutil.parser import parse\n",
    "\n",
    "\n",
    "class MRWordFrequencyCount(MRJob):\n",
    "    INPUT_PROTOCOL = JSONValueProtocol\n",
    "\n",
    "    def mapper(self, _, record):\n",
    "        date = parse(record['created_at'])\n",
    "        week = date.isocalendar()[1]\n",
    "        hour = date.hour\n",
    "        yield [(week, hour, record['language']), 1]\n",
    "\n",
    "    def reducer(self, key, values):\n",
    "        yield [key, sum(values)]\n",
    "\n",
    "    def steps(self):\n",
    "        return [MRStep(mapper=self.mapper, reducer=self.reducer)]\n",
    "\n",
    "if __name__ == '__main__':\n",
    "    MRWordFrequencyCount.run()\n"
   ]
  },
  {
   "cell_type": "markdown",
   "metadata": {
    "slideshow": {
     "slide_type": "slide"
    }
   },
   "source": [
    "**Confidence/Accuracy**\n",
    "\n",
    "But, first we have to know the \"confidence\" or the accuracy of our model to predict the language of the tweets. To do this we pre-classify 100 tweets with the language we could determine in it, but there are tweets that do not show any particular languages an example would be a tweet of just a link or url. There are also tweets that only use about 2-3 words of a particular language but no stopwords (which makes the model to fail, giving a language result that is garbage most of the times).\n",
    "To do this we made a file with the 100 tweets pre-classified and used the script above to identify the language in it, then pass it to the prediction language model, which will make another file with both classifications of languages, to be easy to compare by the next script."
   ]
  },
  {
   "cell_type": "code",
   "execution_count": 5,
   "metadata": {
    "collapsed": true,
    "slideshow": {
     "slide_type": "fragment"
    }
   },
   "outputs": [],
   "source": [
    "import language_detect as ld\n",
    "import json\n",
    "\n",
    "# The preclassified files only have 100 registers, because we did not have more time to pre-classificate\n",
    "language_file = \"preclassified_language.data\"\n",
    "\n",
    "_output = ld.set_language_for_each_tweet(language_file)\n",
    "\n",
    "# Check correct predictions of: languages\n",
    "count_errors = 0\n",
    "count_tweets = 0\n",
    "with open(_output, 'r') as fo:\n",
    "    for line in fo.readlines():\n",
    "        if len(line) != 0:\n",
    "            values = json.loads(line)\n",
    "            if values['language'] != values['real_language']:\n",
    "                count_errors += 1\n",
    "            count_tweets += 1\n",
    "print \"The percentage of correct predictions for languages is: {}%\".format(float(count_tweets - count_errors) / count_tweets * 100)"
   ]
  },
  {
   "cell_type": "markdown",
   "metadata": {
    "slideshow": {
     "slide_type": "fragment"
    }
   },
   "source": [
    "The percentage of correct predictions for languages is: 77.0%"
   ]
  },
  {
   "cell_type": "markdown",
   "metadata": {
    "slideshow": {
     "slide_type": "slide"
    }
   },
   "source": [
    "**Results**\n",
    "\n",
    "**Note:** Partial Results, because they were large files of output. \n",
    "\n",
    "###### Nintendo\n",
    "\n",
    "| Week | Hour | Language | Quantity |\n",
    "|----------|--|-|-|\n",
    "|...|...|...|...|\n",
    "|14| 22| \"english\"|\t1|\n",
    "|25| 17| \"english\"|\t1|\n",
    "|26| 0| \"danish\"|\t7|\n",
    "|26| 0| \"dutch\"|\t34|\n",
    "|26| 0| \"english\"|\t792|\n",
    "|26| 0| \"finnish\"|\t22|\n",
    "|26| 0| \"french\"|\t34|\n",
    "|26| 0| \"german\"|\t9|\n",
    "|26| 0| \"hungarian\"|\t63|\n",
    "|26| 0| \"italian\"|\t2|\n",
    "|26| 0| \"portuguese\"|\t254|\n",
    "|26| 0| \"spanish\"|\t92|\n",
    "|26| 0| \"swedish\"|\t152|\n",
    "|...|...|...|...|\n",
    "\n",
    "\n",
    "**Analysis**\n",
    "\n",
    "From this we can see which hours in which week had more records made in the different languages by platform.\n"
   ]
  },
  {
   "cell_type": "markdown",
   "metadata": {
    "slideshow": {
     "slide_type": "slide"
    }
   },
   "source": [
    "** Graphics **"
   ]
  },
  {
   "cell_type": "code",
   "execution_count": null,
   "metadata": {
    "collapsed": false,
    "slideshow": {
     "slide_type": "fragment"
    }
   },
   "outputs": [
    {
     "data": {
      "image/png": "[encoded data removed]",
      "text/plain": [
       "<matplotlib.figure.Figure at 0x60c08d0>"
      ]
     },
     "metadata": {},
     "output_type": "display_data"
    },
    {
     "data": {
      "image/png": "[encoded data removed]",
      "text/plain": [
       "<matplotlib.figure.Figure at 0xc834850>"
      ]
     },
     "metadata": {},
     "output_type": "display_data"
    },
    {
     "data": {
      "image/png": "[encoded data removed]",
      "text/plain": [
       "<matplotlib.figure.Figure at 0xc2fe650>"
      ]
     },
     "metadata": {},
     "output_type": "display_data"
    }
   ],
   "source": [
    "import matplotlib.pyplot as plt\n",
    "import numpy as np\n",
    "import random\n",
    "\n",
    "archivo = open(\"languages_amount_by_platform_summary.txt\")\n",
    "\n",
    "########################################\n",
    "###############Nintendo#################\n",
    "########################################\n",
    "\n",
    "archivo.readline()\n",
    "archivo.readline()\n",
    "languages = {}\n",
    "chars_to_remove = [',', '[', ']', '\"']\n",
    "fechas = set()\n",
    "suma_fechas = {}\n",
    "width= 1\n",
    "while True:\n",
    "\ti = archivo.readline()\n",
    "\tline = i.translate(None, ''.join(chars_to_remove))\n",
    "\tline = line.split()\n",
    "\tif len(line) == 0:\n",
    "\t\tbreak\n",
    "\tif line[2] not in languages.keys():\n",
    "\t\tlanguages[line[2]] = []\n",
    "\tlanguages[line[2]].append([(int(line[0]), int(line[1])), int(line[3])])\n",
    "\ttry:\n",
    "\t\tsuma_fechas[(int(line[0]), int(line[1]))] += int(line[3])\n",
    "\texcept:\n",
    "\t\tsuma_fechas[(int(line[0]), int(line[1]))] = int(line[3])\n",
    "\tfechas.add((int(line[0]), int(line[1])))\n",
    "fechas = sorted(fechas)\n",
    "bottom = [0]*len(fechas)\n",
    "ax = plt.subplot(111)\n",
    "for i in languages.keys():\n",
    "\tcolor=(random.random(),random.random(),random.random())\n",
    "\tx = []\n",
    "\tx_name = []\n",
    "\ty = []\n",
    "\tcount = 0\n",
    "\tinicio_len = 0\n",
    "\tleng = sorted(languages[i])\n",
    "\tn =len(leng)\n",
    "\tfor j in xrange(len(fechas)):\n",
    "\t\tx.append(count)\n",
    "\t\tx_name.append(str(fechas[j][0])+ \" \" + str(fechas[j][1]))\n",
    "\t\tif inicio_len < n:\n",
    "\t\t\tif leng[inicio_len][0] == fechas[j]:\n",
    "\t\t\t\ty.append(leng[inicio_len][1]/float(suma_fechas[fechas[j]]))\n",
    "\t\t\t\tinicio_len += 1\n",
    "\t\t\t\tcount += 1\n",
    "\t\t\telse:\n",
    "\t\t\t\ty.append(0)\n",
    "\t\t\t\tcount += 1\n",
    "\t\telse:\n",
    "\t\t\ty.append(0)\n",
    "\t\t\tcount += 1\n",
    "\tplt.xticks(x, x_name)\n",
    "\tplt.bar(x, y,width,label=i,bottom=bottom, edgecolor = \"none\", color=color)\n",
    "\tbottom += np.array(y)\n",
    "\n",
    "box = ax.get_position()\n",
    "ax.set_position([box.x0, box.y0, box.width * 0.8, box.height])\n",
    "# Put a legend to the right of the current axis\n",
    "ax.legend(loc='center left', bbox_to_anchor=(1, 0.5))\n",
    "plt.title(\"Nintendo\")\n",
    "plt.xlabel('Week & Hour')\n",
    "plt.ylabel('Ratio')\n",
    "x1,x2,y1,y2 = plt.axis()\n",
    "plt.axis((x1,x2,0,1))\n",
    "plt.show()\n",
    "\n",
    "########################################\n",
    "#############Playstation################\n",
    "########################################\n",
    "\n",
    "archivo.readline()\n",
    "archivo.readline()\n",
    "languages = {}\n",
    "chars_to_remove = [',', '[', ']', '\"']\n",
    "fechas = set()\n",
    "suma_fechas = {}\n",
    "width= 1\n",
    "while True:\n",
    "\ti = archivo.readline()\n",
    "\tline = i.translate(None, ''.join(chars_to_remove))\n",
    "\tline = line.split()\n",
    "\tif len(line) == 0:\n",
    "\t\tbreak\n",
    "\tif line[2] not in languages.keys():\n",
    "\t\tlanguages[line[2]] = []\n",
    "\tlanguages[line[2]].append([(int(line[0]), int(line[1])), int(line[3])])\n",
    "\ttry:\n",
    "\t\tsuma_fechas[(int(line[0]), int(line[1]))] += int(line[3])\n",
    "\texcept:\n",
    "\t\tsuma_fechas[(int(line[0]), int(line[1]))] = int(line[3])\n",
    "\tfechas.add((int(line[0]), int(line[1])))\n",
    "fechas = sorted(fechas)\n",
    "bottom = [0]*len(fechas)\n",
    "ax = plt.subplot(111)\n",
    "for i in languages.keys():\n",
    "\tcolor=(random.random(),random.random(),random.random())\n",
    "\tx = []\n",
    "\tx_name = []\n",
    "\ty = []\n",
    "\tcount = 0\n",
    "\tinicio_len = 0\n",
    "\tleng = sorted(languages[i])\n",
    "\tn =len(leng)\n",
    "\tfor j in xrange(len(fechas)):\n",
    "\t\tx.append(count)\n",
    "\t\tx_name.append(str(fechas[j][0])+ \" \" + str(fechas[j][1]))\n",
    "\t\tif inicio_len < n:\n",
    "\t\t\tif leng[inicio_len][0] == fechas[j]:\n",
    "\t\t\t\ty.append(leng[inicio_len][1]/float(suma_fechas[fechas[j]]))\n",
    "\t\t\t\tinicio_len += 1\n",
    "\t\t\t\tcount += 1\n",
    "\t\t\telse:\n",
    "\t\t\t\ty.append(0)\n",
    "\t\t\t\tcount += 1\n",
    "\t\telse:\n",
    "\t\t\ty.append(0)\n",
    "\t\t\tcount += 1\n",
    "\tplt.xticks(x, x_name)\n",
    "\tplt.bar(x, y,width,label=i,bottom=bottom, edgecolor = \"none\", color=color)\n",
    "\tbottom += np.array(y)\n",
    "\n",
    "box = ax.get_position()\n",
    "ax.set_position([box.x0, box.y0, box.width * 0.8, box.height])\n",
    "\n",
    "# Put a legend to the right of the current axis\n",
    "ax.legend(loc='center left', bbox_to_anchor=(1, 0.5))\n",
    "plt.title(\"Playstation\")\n",
    "plt.xlabel('Week & Hour')\n",
    "plt.ylabel('Ratio')\n",
    "x1,x2,y1,y2 = plt.axis()\n",
    "plt.axis((x1,x2,0,1))\n",
    "plt.show()\n",
    "\n",
    "########################################\n",
    "#################Xbox###################\n",
    "########################################\n",
    "\n",
    "archivo.readline()\n",
    "archivo.readline()\n",
    "languages = {}\n",
    "chars_to_remove = [',', '[', ']', '\"']\n",
    "fechas = set()\n",
    "suma_fechas = {}\n",
    "width= 1\n",
    "while True:\n",
    "\ti = archivo.readline()\n",
    "\tline = i.translate(None, ''.join(chars_to_remove))\n",
    "\tline = line.split()\n",
    "\tif len(line) == 0:\n",
    "\t\tbreak\n",
    "\tif line[2] not in languages.keys():\n",
    "\t\tlanguages[line[2]] = []\n",
    "\tlanguages[line[2]].append([(int(line[0]), int(line[1])), int(line[3])])\n",
    "\ttry:\n",
    "\t\tsuma_fechas[(int(line[0]), int(line[1]))] += int(line[3])\n",
    "\texcept:\n",
    "\t\tsuma_fechas[(int(line[0]), int(line[1]))] = int(line[3])\n",
    "\tfechas.add((int(line[0]), int(line[1])))\n",
    "fechas = sorted(fechas)\n",
    "bottom = [0]*len(fechas)\n",
    "ax = plt.subplot(111)\n",
    "for i in languages.keys():\n",
    "\tcolor=(random.random(),random.random(),random.random())\n",
    "\tx = []\n",
    "\tx_name = []\n",
    "\ty = []\n",
    "\tcount = 0\n",
    "\tinicio_len = 0\n",
    "\tleng = sorted(languages[i])\n",
    "\tn =len(leng)\n",
    "\tfor j in xrange(len(fechas)):\n",
    "\t\tx.append(count)\n",
    "\t\tx_name.append(str(fechas[j][0])+ \" \" + str(fechas[j][1]))\n",
    "\t\tif inicio_len < n:\n",
    "\t\t\tif leng[inicio_len][0] == fechas[j]:\n",
    "\t\t\t\ty.append(leng[inicio_len][1]/float(suma_fechas[fechas[j]]))\n",
    "\t\t\t\tinicio_len += 1\n",
    "\t\t\t\tcount += 1\n",
    "\t\t\telse:\n",
    "\t\t\t\ty.append(0)\n",
    "\t\t\t\tcount += 1\n",
    "\t\telse:\n",
    "\t\t\ty.append(0)\n",
    "\t\t\tcount += 1\n",
    "\tplt.xticks(x, x_name)\n",
    "\tplt.bar(x, y,width,label=i,bottom=bottom, edgecolor = \"none\", color=color)\n",
    "\tbottom += np.array(y)\n",
    "\n",
    "box = ax.get_position()\n",
    "ax.set_position([box.x0, box.y0, box.width * 0.8, box.height])\n",
    "# Put a legend to the right of the current axis\n",
    "ax.legend(loc='center left', bbox_to_anchor=(1, 0.5))\n",
    "plt.title(\"Xbox\")\n",
    "plt.xlabel('Week & Hour')\n",
    "plt.ylabel('Ratio')\n",
    "x1,x2,y1,y2 = plt.axis()\n",
    "plt.axis((x1,x2,0,1))\n",
    "plt.show()\n",
    "\n",
    "\n",
    "########################################\n",
    "###############Othres###################\n",
    "########################################\n",
    "\n",
    "archivo.readline()\n",
    "archivo.readline()\n",
    "languages = {}\n",
    "chars_to_remove = [',', '[', ']', '\"']\n",
    "fechas = set()\n",
    "suma_fechas = {}\n",
    "width= 1\n",
    "while True:\n",
    "\ti = archivo.readline()\n",
    "\tline = i.translate(None, ''.join(chars_to_remove))\n",
    "\tline = line.split()\n",
    "\tif len(line) == 0:\n",
    "\t\tbreak\n",
    "\tif line[2] not in languages.keys():\n",
    "\t\tlanguages[line[2]] = []\n",
    "\tlanguages[line[2]].append([(int(line[0]), int(line[1])), int(line[3])])\n",
    "\ttry:\n",
    "\t\tsuma_fechas[(int(line[0]), int(line[1]))] += int(line[3])\n",
    "\texcept:\n",
    "\t\tsuma_fechas[(int(line[0]), int(line[1]))] = int(line[3])\n",
    "\tfechas.add((int(line[0]), int(line[1])))\n",
    "fechas = sorted(fechas)\n",
    "bottom = [0]*len(fechas)\n",
    "ax = plt.subplot(111)\n",
    "for i in languages.keys():\n",
    "\tcolor=(random.random(),random.random(),random.random())\n",
    "\tx = []\n",
    "\tx_name = []\n",
    "\ty = []\n",
    "\tcount = 0\n",
    "\tinicio_len = 0\n",
    "\tleng = sorted(languages[i])\n",
    "\tn =len(leng)\n",
    "\tfor j in xrange(len(fechas)):\n",
    "\t\tx.append(count)\n",
    "\t\tx_name.append(str(fechas[j][0])+ \" \" + str(fechas[j][1]))\n",
    "\t\tif inicio_len < n:\n",
    "\t\t\tif leng[inicio_len][0] == fechas[j]:\n",
    "\t\t\t\ty.append(leng[inicio_len][1]/float(suma_fechas[fechas[j]]))\n",
    "\t\t\t\tinicio_len += 1\n",
    "\t\t\t\tcount += 1\n",
    "\t\t\telse:\n",
    "\t\t\t\ty.append(0)\n",
    "\t\t\t\tcount += 1\n",
    "\t\telse:\n",
    "\t\t\ty.append(0)\n",
    "\t\t\tcount += 1\n",
    "\tplt.xticks(x, x_name)\n",
    "\tplt.bar(x, y,width,label=i,bottom=bottom, edgecolor = \"none\", color=color)\n",
    "\tbottom += np.array(y)\n",
    "\n",
    "box = ax.get_position()\n",
    "ax.set_position([box.x0, box.y0, box.width * 0.8, box.height])\n",
    "# Put a legend to the right of the current axis\n",
    "ax.legend(loc='center left', bbox_to_anchor=(1, 0.5))\n",
    "plt.title(\"Others\")\n",
    "plt.xlabel('Week & Hour')\n",
    "plt.ylabel('Ratio')\n",
    "x1,x2,y1,y2 = plt.axis()\n",
    "plt.axis((x1,x2,0,1))\n",
    "plt.show()"
   ]
  },
  {
   "cell_type": "markdown",
   "metadata": {
    "slideshow": {
     "slide_type": "slide"
    }
   },
   "source": [
    "# Experiments\n",
    "\n",
    "1) We believe that the users of the Playstation have a tendence in making tweets with more negative sentiment than the other platforms in percentage, because otherwise the size of the amount of tweets would make it the comparison more about size (amount of twees) than the content made itself.\n",
    "\n",
    "2) At the same time we believe that the Nintendo platform is the one with the most positive sentiment tweets, compared to the other platforms in percentages.\n",
    "\n",
    "Both of this experiments and more can be proven right or wrong with the next script. Of course after the results manual analysis must be made."
   ]
  },
  {
   "cell_type": "code",
   "execution_count": 1,
   "metadata": {
    "collapsed": false,
    "slideshow": {
     "slide_type": "slide"
    }
   },
   "outputs": [
    {
     "name": "stdout",
     "output_type": "stream",
     "text": [
      "\n",
      "Nintendo\n",
      "\n"
     ]
    },
    {
     "data": {
      "image/png": "[encoded data removed]",
      "text/plain": [
       "<matplotlib.figure.Figure at 0x600c750>"
      ]
     },
     "metadata": {},
     "output_type": "display_data"
    },
    {
     "name": "stdout",
     "output_type": "stream",
     "text": [
      "The next information is for tweets with positive sentiment. The average was: 1069.98730964. The standard deviation was: 752.251522782\n",
      "The percentage of positive sentiment tweets in this platform was: 31.99%\n"
     ]
    },
    {
     "data": {
      "image/png": "[encoded data removed]",
      "text/plain": [
       "<matplotlib.figure.Figure at 0x600c9d0>"
      ]
     },
     "metadata": {},
     "output_type": "display_data"
    },
    {
     "name": "stdout",
     "output_type": "stream",
     "text": [
      "The next information is for tweets with neutral sentiment. The average was: 1877.92405063. The standard deviation was: 1460.07768874\n",
      "The percentage of neutral sentiment tweets in this platform was: 56.29%\n"
     ]
    },
    {
     "data": {
      "image/png": "[encoded data removed]",
      "text/plain": [
       "<matplotlib.figure.Figure at 0x62c8030>"
      ]
     },
     "metadata": {},
     "output_type": "display_data"
    },
    {
     "name": "stdout",
     "output_type": "stream",
     "text": [
      "The next information is for tweets with negative sentiment. The average was: 390.663291139. The standard deviation was: 291.027996881\n",
      "The percentage of negative sentiment tweets in this platform was: 11.71%\n",
      "\n",
      "Playstation\n",
      "\n"
     ]
    },
    {
     "data": {
      "image/png": "[encoded data removed]",
      "text/plain": [
       "<matplotlib.figure.Figure at 0x632edf0>"
      ]
     },
     "metadata": {},
     "output_type": "display_data"
    },
    {
     "name": "stdout",
     "output_type": "stream",
     "text": [
      "The next information is for tweets with positive sentiment. The average was: 926.086294416. The standard deviation was: 616.4917964\n",
      "The percentage of positive sentiment tweets in this platform was: 15.61%\n"
     ]
    },
    {
     "data": {
      "image/png": "[encoded data removed]",
      "text/plain": [
       "<matplotlib.figure.Figure at 0x6426f90>"
      ]
     },
     "metadata": {},
     "output_type": "display_data"
    },
    {
     "name": "stdout",
     "output_type": "stream",
     "text": [
      "The next information is for tweets with neutral sentiment. The average was: 4324.84771574. The standard deviation was: 2093.1371678\n",
      "The percentage of neutral sentiment tweets in this platform was: 72.89%\n"
     ]
    },
    {
     "data": {
      "image/png": "[encoded data removed]",
      "text/plain": [
       "<matplotlib.figure.Figure at 0x64f8d10>"
      ]
     },
     "metadata": {},
     "output_type": "display_data"
    },
    {
     "name": "stdout",
     "output_type": "stream",
     "text": [
      "The next information is for tweets with negative sentiment. The average was: 681.04556962. The standard deviation was: 763.526903877\n",
      "The percentage of negative sentiment tweets in this platform was: 11.51%\n",
      "\n",
      "Xbox\n",
      "\n"
     ]
    },
    {
     "data": {
      "image/png": "[encoded data removed]",
      "text/plain": [
       "<matplotlib.figure.Figure at 0x6512ad0>"
      ]
     },
     "metadata": {},
     "output_type": "display_data"
    },
    {
     "name": "stdout",
     "output_type": "stream",
     "text": [
      "The next information is for tweets with positive sentiment. The average was: 1885.36040609. The standard deviation was: 1520.19631016\n",
      "The percentage of positive sentiment tweets in this platform was: 32.87%\n"
     ]
    },
    {
     "data": {
      "image/png": "[encoded data removed]",
      "text/plain": [
       "<matplotlib.figure.Figure at 0x64ec190>"
      ]
     },
     "metadata": {},
     "output_type": "display_data"
    },
    {
     "name": "stdout",
     "output_type": "stream",
     "text": [
      "The next information is for tweets with neutral sentiment. The average was: 2879.20812183. The standard deviation was: 1901.86013734\n",
      "The percentage of neutral sentiment tweets in this platform was: 50.19%\n"
     ]
    },
    {
     "data": {
      "image/png": "[encoded data removed]",
      "text/plain": [
       "<matplotlib.figure.Figure at 0x64931d0>"
      ]
     },
     "metadata": {},
     "output_type": "display_data"
    },
    {
     "name": "stdout",
     "output_type": "stream",
     "text": [
      "The next information is for tweets with negative sentiment. The average was: 971.870558376. The standard deviation was: 657.105443102\n",
      "The percentage of negative sentiment tweets in this platform was: 16.94%\n",
      "\n",
      "Else\n",
      "\n"
     ]
    },
    {
     "data": {
      "image/png": "[encoded data removed]",
      "text/plain": [
       "<matplotlib.figure.Figure at 0x600ca50>"
      ]
     },
     "metadata": {},
     "output_type": "display_data"
    },
    {
     "name": "stdout",
     "output_type": "stream",
     "text": [
      "The next information is for tweets with positive sentiment. The average was: 499.256345178. The standard deviation was: 356.877592535\n",
      "The percentage of positive sentiment tweets in this platform was: 26.75%\n"
     ]
    },
    {
     "data": {
      "image/png": "[encoded data removed]",
      "text/plain": [
       "<matplotlib.figure.Figure at 0x64054b0>"
      ]
     },
     "metadata": {},
     "output_type": "display_data"
    },
    {
     "name": "stdout",
     "output_type": "stream",
     "text": [
      "The next information is for tweets with neutral sentiment. The average was: 1119.27594937. The standard deviation was: 1122.17689427\n",
      "The percentage of neutral sentiment tweets in this platform was: 60.12%\n"
     ]
    },
    {
     "data": {
      "image/png": "[encoded data removed]",
      "text/plain": [
       "<matplotlib.figure.Figure at 0x66542b0>"
      ]
     },
     "metadata": {},
     "output_type": "display_data"
    },
    {
     "name": "stdout",
     "output_type": "stream",
     "text": [
      "The next information is for tweets with negative sentiment. The average was: 245.149746193. The standard deviation was: 159.562300204\n",
      "The percentage of negative sentiment tweets in this platform was: 13.13%\n"
     ]
    }
   ],
   "source": [
    "import matplotlib.pyplot as plt\n",
    "import numpy as np\n",
    "\n",
    "class Platform:\n",
    "    def __init__(self, name):\n",
    "        self.name = name\n",
    "        self.sentiments = {}\n",
    "\n",
    "    def add_sentiment_amount(self, sentiment_list, sentiment_key):\n",
    "        self.sentiments[sentiment_key] = sentiment_list\n",
    "\n",
    "    def add_total_tweets(self, total):\n",
    "        self.total = float(total)\n",
    "\n",
    "    def print_sentiments_statistics(self):\n",
    "        print \"\\n{}\\n\".format(self.name)\n",
    "        for sentiment_list in self.sentiments.items():\n",
    "            average_sentiment = np.average(sentiment_list[1])\n",
    "            std_deviation_sentiment= np.std(sentiment_list[1], ddof=1)\n",
    "            plt.boxplot(sentiment_list[1], vert=False)\n",
    "            plt.title(\"{} - {} sentiment\".format(self.name, sentiment_list[0]))\n",
    "            plt.xlabel('Quantity')\n",
    "            plt.show()\n",
    "            total_sentiment = 0\n",
    "            for i in sentiment_list[1]:\n",
    "                total_sentiment += i\n",
    "            print \"The next information is for tweets with {} sentiment. The average was: {}. The standard deviation was: {}\".format(sentiment_list[0], average_sentiment, std_deviation_sentiment)\n",
    "            print \"The percentage of {} sentiment tweets in this platform was: {}%\".format(sentiment_list[0], round(total_sentiment/self.total*100, 2))\n",
    "\n",
    "\n",
    "archivo = open(\"sentiment_analysis_by_platform_summary.txt\")\n",
    "archivo.readline()\n",
    "archivo.readline()\n",
    "pos = []\n",
    "neg = []\n",
    "neu = []\n",
    "chars_to_remove = [',', '[', ']', '\"']\n",
    "while True:\n",
    "    i = archivo.readline()\n",
    "    line = i.translate(None, ''.join(chars_to_remove))\n",
    "    line = line.split()\n",
    "    if len(line) == 0:\n",
    "        break\n",
    "    if line[2] == \"pos\":\n",
    "        pos.append([int(line[0]), int(line[1]), int(line[3])])\n",
    "    elif line[2] == \"neg\":\n",
    "        neg.append([int(line[0]), int(line[1]), int(line[3])])\n",
    "    else:\n",
    "        neu.append([int(line[0]), int(line[1]), int(line[3])])\n",
    "\n",
    "# Statistics\n",
    "nintendo = Platform(\"Nintendo\")\n",
    "negs_count = []\n",
    "for row in neg:\n",
    "    negs_count.append(row[2])\n",
    "pos_count = []\n",
    "for row in pos:\n",
    "    pos_count.append(row[2])\n",
    "neu_count = []\n",
    "for row in neu:\n",
    "    neu_count.append(row[2])\n",
    "\n",
    "nintendo.add_sentiment_amount(negs_count, \"negative\")\n",
    "nintendo.add_sentiment_amount(neu_count, \"neutral\")\n",
    "nintendo.add_sentiment_amount(pos_count, \"positive\")\n",
    "total = 0\n",
    "for i in negs_count:\n",
    "    total += i\n",
    "for i in pos_count:\n",
    "    total += i\n",
    "for i in neu_count:\n",
    "    total += i\n",
    "nintendo.add_total_tweets(total)\n",
    "nintendo.print_sentiments_statistics()\n",
    "\n",
    "archivo.readline()\n",
    "archivo.readline()\n",
    "pos = []\n",
    "neg = []\n",
    "neu = []\n",
    "chars_to_remove = [',', '[', ']', '\"']\n",
    "while True:\n",
    "    i = archivo.readline()\n",
    "    line = i.translate(None, ''.join(chars_to_remove))\n",
    "    line = line.split()\n",
    "    if len(line) == 0:\n",
    "        break\n",
    "    if line[2] == \"pos\":\n",
    "        pos.append([int(line[0]), int(line[1]), int(line[3])])\n",
    "    elif line[2] == \"neg\":\n",
    "        neg.append([int(line[0]), int(line[1]), int(line[3])])\n",
    "    else:\n",
    "        neu.append([int(line[0]), int(line[1]), int(line[3])])\n",
    "\n",
    "# Statistics\n",
    "playstation = Platform(\"Playstation\")\n",
    "negs_count = []\n",
    "for row in neg:\n",
    "    negs_count.append(row[2])\n",
    "pos_count = []\n",
    "for row in pos:\n",
    "    pos_count.append(row[2])\n",
    "neu_count = []\n",
    "for row in neu:\n",
    "    neu_count.append(row[2])\n",
    "\n",
    "playstation.add_sentiment_amount(negs_count, \"negative\")\n",
    "playstation.add_sentiment_amount(neu_count, \"neutral\")\n",
    "playstation.add_sentiment_amount(pos_count, \"positive\")\n",
    "total = 0\n",
    "for i in negs_count:\n",
    "    total += i\n",
    "for i in pos_count:\n",
    "    total += i\n",
    "for i in neu_count:\n",
    "    total += i\n",
    "playstation.add_total_tweets(total)\n",
    "playstation.print_sentiments_statistics()\n",
    "\n",
    "archivo.readline()\n",
    "archivo.readline()\n",
    "pos = []\n",
    "neg = []\n",
    "neu = []\n",
    "chars_to_remove = [',', '[', ']', '\"']\n",
    "while True:\n",
    "    i = archivo.readline()\n",
    "    line = i.translate(None, ''.join(chars_to_remove))\n",
    "    line = line.split()\n",
    "    if len(line) == 0:\n",
    "        break\n",
    "    if line[2] == \"pos\":\n",
    "        pos.append([int(line[0]), int(line[1]), int(line[3])])\n",
    "    elif line[2] == \"neg\":\n",
    "        neg.append([int(line[0]), int(line[1]), int(line[3])])\n",
    "    else:\n",
    "        neu.append([int(line[0]), int(line[1]), int(line[3])])\n",
    "\n",
    "# Statistics\n",
    "xbox = Platform(\"Xbox\")\n",
    "negs_count = []\n",
    "for row in neg:\n",
    "    negs_count.append(row[2])\n",
    "pos_count = []\n",
    "for row in pos:\n",
    "    pos_count.append(row[2])\n",
    "neu_count = []\n",
    "for row in neu:\n",
    "    neu_count.append(row[2])\n",
    "\n",
    "xbox.add_sentiment_amount(negs_count, \"negative\")\n",
    "xbox.add_sentiment_amount(neu_count, \"neutral\")\n",
    "xbox.add_sentiment_amount(pos_count, \"positive\")\n",
    "total = 0\n",
    "for i in negs_count:\n",
    "    total += i\n",
    "for i in pos_count:\n",
    "    total += i\n",
    "for i in neu_count:\n",
    "    total += i\n",
    "xbox.add_total_tweets(total)\n",
    "xbox.print_sentiments_statistics()\n",
    "\n",
    "archivo.readline()\n",
    "archivo.readline()\n",
    "pos = []\n",
    "neg = []\n",
    "neu = []\n",
    "chars_to_remove = [',', '[', ']', '\"']\n",
    "while True:\n",
    "    i = archivo.readline()\n",
    "    line = i.translate(None, ''.join(chars_to_remove))\n",
    "    line = line.split()\n",
    "    if len(line) == 0:\n",
    "        break\n",
    "    if line[2] == \"pos\":\n",
    "        pos.append([int(line[0]), int(line[1]), int(line[3])])\n",
    "    elif line[2] == \"neg\":\n",
    "        neg.append([int(line[0]), int(line[1]), int(line[3])])\n",
    "    else:\n",
    "        neu.append([int(line[0]), int(line[1]), int(line[3])])\n",
    "\n",
    "# Statistics\n",
    "_else = Platform(\"Else\")\n",
    "negs_count = []\n",
    "for row in neg:\n",
    "    negs_count.append(row[2])\n",
    "pos_count = []\n",
    "for row in pos:\n",
    "    pos_count.append(row[2])\n",
    "neu_count = []\n",
    "for row in neu:\n",
    "    neu_count.append(row[2])\n",
    "\n",
    "_else.add_sentiment_amount(negs_count, \"negative\")\n",
    "_else.add_sentiment_amount(neu_count, \"neutral\")\n",
    "_else.add_sentiment_amount(pos_count, \"positive\")\n",
    "total = 0\n",
    "for i in negs_count:\n",
    "    total += i\n",
    "for i in pos_count:\n",
    "    total += i\n",
    "for i in neu_count:\n",
    "    total += i\n",
    "_else.add_total_tweets(total)\n",
    "_else.print_sentiments_statistics()\n"
   ]
  },
  {
   "cell_type": "markdown",
   "metadata": {
    "slideshow": {
     "slide_type": "slide"
    }
   },
   "source": [
    "**Analysis**\n",
    "\n",
    "From the results we can see the average, the standard deviation, the percentage of the data of that platform in one sentiment and a box-plot to further analysis.\n",
    "\n",
    "1) It turns out that the percentage of all the tweets made about the platform Playstation. There is a 11.51% tweets with negative sentiment. While in Nintendo there is an 11.71%, in Xbox there is a 16.94% and in Else there is a 13.13%. Which means that the platform with most negative sentiment tweets against their own total is Xbox with a 16.94%. We thought Playstation would have more negative tweets overall just because there was an extreme peak of negative tweets in one of graphics we made earlier, this peak can be see in the boxplot of \"Playstation - negative sentiment\", but the boxplot also allow us to see that it was the most far away outlier and that almost 100% of the negative tweets per hour about Playstation does not go over 1.5k tweets, but this outlier was near 12k tweets. This fact can also be checked with the average amount of tweets per hour and the standard deviation, because the average + std. deviation would be 1.4k which is about were 100% of negative tweets per hour would be, which also means that 12k negative tweets is not normal at all.\n",
    "\n",
    "2) It turns out that the percentage of all the tweets made about the platform Playstation. There is only a 31.99% tweets with positive sentiment. While in Playstation there is an 15.61%, in Xbox there is a 32.87% and in Else there is a 26.75%. Which means that the platform with most positive sentiment tweets against their own total is Xbox with a 32.87%. We thought Nintendo would have more positive tweets overall just because there were pretty stable or followed certain pattern in the graphic we show before, this stable tendece can be see in the boxplot of \"Nintendo - positive sentiment\", with the tiny amount of outliers that are really far of the boxplot. But with the boxplot \"Xbox - positive sentiment\", we can see that the boxplot of it is moved more to the right, in other words the quantity is about twice as Nintendo positive tweets in the average or 50% amount of the data. The fact that Xbox has more positive sentiment tweets can also be checked with the average amount of tweets per hour and the standard deviation, since the standard deviation of Xbox is just 152 while Nintendo has 752, is a very important reason to see which one is more \"stable\" in their positive-ness. And that the average of Xbox positive tweets per hour is more than Nintendo's, with less deviation only leaves one possibility for nintendo to \"win\" which would be the amount of data that those averages represent, because if the xbox was more stable but compared against the total was almost nothing then Nintendo would have \"won\" but that was not the case. "
   ]
  },
  {
   "cell_type": "markdown",
   "metadata": {
    "slideshow": {
     "slide_type": "slide"
    }
   },
   "source": [
    "# The End."
   ]
  }
 ],
 "metadata": {
  "celltoolbar": "Slideshow",
  "kernelspec": {
   "display_name": "Python 2",
   "language": "python",
   "name": "python2"
  },
  "language_info": {
   "codemirror_mode": {
    "name": "ipython",
    "version": 2
   },
   "file_extension": ".py",
   "mimetype": "text/x-python",
   "name": "python",
   "nbconvert_exporter": "python",
   "pygments_lexer": "ipython2",
   "version": "2.7.10"
  }
 },
 "nbformat": 4,
 "nbformat_minor": 1
}
