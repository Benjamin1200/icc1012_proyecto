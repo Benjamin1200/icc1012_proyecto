{
 "cells": [
  {
   "cell_type": "markdown",
   "metadata": {},
   "source": [
    "# Twitter Data for the Project\n",
    "\n",
    "In this python file we are going to use tweepy to get the tweets that contain the keywords: \"Nintendo\", \"PlayStation\", \"Xbox\" and \"Videogames\".\n",
    "\n",
    "The first part is for obtaining the tweets, and saving them in a file.\n",
    "\n",
    "The second part is for reading from the file all the tweets saved to insert them in MongoDB.\n",
    "\n",
    "The last part is related to analysis."
   ]
  },
  {
   "cell_type": "code",
   "execution_count": null,
   "metadata": {
    "collapsed": false
   },
   "outputs": [],
   "source": [
    "import tweepy\n",
    "\n",
    "# Variables that contains the user credentials to access Twitter API\n",
    "access_key = \"766667542240882688-NtPIOdl9CCKLZ7UBn8JaLIiJ6k3wYQN\"\n",
    "access_secret = \"RYWpbnHH3cbh7R7MXs8qVzgGwTBAcPn79IYeXISGvEiHO\"\n",
    "consumer_key = \"GU8slDLVo4HygqL15RCVfQWd0\"\n",
    "consumer_secret = \"Tlp6rArgxhGrySTrbSfgKgCyA2UUf4x41UEDYu3OaOG9ZEccGY\"\n",
    "\n",
    "auth = tweepy.OAuthHandler(consumer_key, consumer_secret)\n",
    "auth.set_access_token(access_key, access_secret)\n",
    "api = tweepy.API(auth)\n",
    "\n",
    "filename = \"tweets_videogames.data\"\n",
    "\n",
    "class CustomStreamListener(tweepy.StreamListener):\n",
    "    def __init__(self, api):\n",
    "        self.api = api\n",
    "        super(tweepy.StreamListener, self).__init__()\n",
    "\n",
    "    def on_data(self, tweet):\n",
    "        #print tweet\n",
    "        values = json.loads(tweet)\n",
    "        try:\n",
    "            with open(filename, 'a') as _file:\n",
    "                _file.write(tweet)\n",
    "        except:\n",
    "            pass\n",
    "\n",
    "    def on_error(self, status_code):\n",
    "        return True  # Don't kill the stream\n",
    "\n",
    "    def on_timeout(self):\n",
    "        return True  # Don't kill the stream\n",
    "\n",
    "sapi = tweepy.streaming.Stream(auth, CustomStreamListener(api))\n",
    "sapi.filter(track=[\"Nintendo\", \"PlayStation\", \"Xbox\", \"Videogames\"])\n"
   ]
  },
  {
   "cell_type": "markdown",
   "metadata": {},
   "source": [
    "This is just for the purpose to know how many tweets there are in the file."
   ]
  },
  {
   "cell_type": "code",
   "execution_count": 5,
   "metadata": {
    "collapsed": false
   },
   "outputs": [
    {
     "name": "stdout",
     "output_type": "stream",
     "text": [
      "62\n"
     ]
    }
   ],
   "source": [
    "amount_tweets = 0\n",
    "filename = \"tweets_videogames.data\"\n",
    "_file = open(filename, 'r')\n",
    "for line in _file.readlines():\n",
    "    amount_tweets += 1\n",
    "_file.close()\n",
    "print amount_tweets"
   ]
  },
  {
   "cell_type": "markdown",
   "metadata": {},
   "source": [
    "This next part is for loading the tweets downloaded in mongo."
   ]
  },
  {
   "cell_type": "code",
   "execution_count": null,
   "metadata": {
    "collapsed": true
   },
   "outputs": [],
   "source": [
    "import json\n",
    "import pymongo\n",
    "\n",
    "filename = \"tweets_videogames.data\"\n",
    "db = pymongo.MongoClient().project\n",
    "_file = open(filename, 'r')\n",
    "for line in _file.readlines():\n",
    "    #print line\n",
    "    db.tweets.insert(json.loads(line))\n",
    "_file.close()"
   ]
  },
  {
   "cell_type": "markdown",
   "metadata": {},
   "source": [
    "And this last part is to analyze the data in mongo."
   ]
  },
  {
   "cell_type": "code",
   "execution_count": 2,
   "metadata": {
    "collapsed": false
   },
   "outputs": [
    {
     "name": "stdout",
     "output_type": "stream",
     "text": [
      "Nothing done here yet.\n"
     ]
    }
   ],
   "source": [
    "print \"Nothing done here yet.\""
   ]
  }
 ],
 "metadata": {
  "kernelspec": {
   "display_name": "Python 2",
   "language": "python",
   "name": "python2"
  },
  "language_info": {
   "codemirror_mode": {
    "name": "ipython",
    "version": 2
   },
   "file_extension": ".py",
   "mimetype": "text/x-python",
   "name": "python",
   "nbconvert_exporter": "python",
   "pygments_lexer": "ipython2",
   "version": "2.7.12"
  }
 },
 "nbformat": 4,
 "nbformat_minor": 1
}
